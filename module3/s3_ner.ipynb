{
 "metadata": {
  "language_info": {
   "codemirror_mode": {
    "name": "ipython",
    "version": 3
   },
   "file_extension": ".py",
   "mimetype": "text/x-python",
   "name": "python",
   "nbconvert_exporter": "python",
   "pygments_lexer": "ipython3",
   "version": "3.8.6-final"
  },
  "orig_nbformat": 2,
  "kernelspec": {
   "name": "python3",
   "display_name": "Python 3.8.6 64-bit",
   "metadata": {
    "interpreter": {
     "hash": "99c2798fddc8ab331820d6d51255fa2b50880962d32a1f192cdb341488373fd1"
    }
   }
  }
 },
 "nbformat": 4,
 "nbformat_minor": 2,
 "cells": [
  {
   "source": [
    "# Named-entity recognition with SpaCy"
   ],
   "cell_type": "markdown",
   "metadata": {}
  },
  {
   "cell_type": "code",
   "execution_count": 1,
   "metadata": {},
   "outputs": [],
   "source": [
    "from collections import defaultdict\n",
    "import sys\n",
    "\n",
    "import spacy\n",
    "from spacy.lang.fr.examples import sentences"
   ]
  },
  {
   "source": [
    "Pour installer les modèles Spacy en français : `python -m spacy download fr_core_news_sm`"
   ],
   "cell_type": "markdown",
   "metadata": {
    "tags": []
   }
  },
  {
   "cell_type": "code",
   "execution_count": 2,
   "metadata": {},
   "outputs": [],
   "source": [
    "nlp = spacy.load('fr_core_news_sm')"
   ]
  },
  {
   "source": [
    "## Exemple sur un corpus de Spacy"
   ],
   "cell_type": "markdown",
   "metadata": {}
  },
  {
   "cell_type": "code",
   "execution_count": 3,
   "metadata": {},
   "outputs": [
    {
     "output_type": "execute_result",
     "data": {
      "text/plain": [
       "['Apple cherche à acheter une start-up anglaise pour 1 milliard de dollars',\n",
       " \"Les voitures autonomes déplacent la responsabilité de l'assurance vers les constructeurs\",\n",
       " \"San Francisco envisage d'interdire les robots coursiers sur les trottoirs\",\n",
       " 'Londres est une grande ville du Royaume-Uni',\n",
       " 'L’Italie choisit ArcelorMittal pour reprendre la plus grande aciérie d’Europe',\n",
       " \"Apple lance HomePod parce qu'il se sent menacé par l'Echo d'Amazon\",\n",
       " \"La France ne devrait pas manquer d'électricité cet été, même en cas de canicule\",\n",
       " 'Nouvelles attaques de Trump contre le maire de Londres',\n",
       " 'Où es-tu ?',\n",
       " 'Qui est le président de la France ?',\n",
       " 'Où est la capitale des États-Unis ?',\n",
       " 'Quand est né Barack Obama ?']"
      ]
     },
     "metadata": {},
     "execution_count": 3
    }
   ],
   "source": [
    "# Imprimer le corpus de Spacy\n",
    "\n",
    "sentences"
   ]
  },
  {
   "cell_type": "code",
   "execution_count": 4,
   "metadata": {},
   "outputs": [
    {
     "output_type": "execute_result",
     "data": {
      "text/plain": [
       "'Apple cherche à acheter une start-up anglaise pour 1 milliard de dollars'"
      ]
     },
     "metadata": {},
     "execution_count": 4
    }
   ],
   "source": [
    "# Isoler la première phrase\n",
    "\n",
    "sent = sentences[0]\n",
    "\n",
    "sent"
   ]
  },
  {
   "cell_type": "code",
   "execution_count": 5,
   "metadata": {},
   "outputs": [],
   "source": [
    "# Traiter la phrase avec Spacy\n",
    "\n",
    "doc = nlp(sent)"
   ]
  },
  {
   "cell_type": "code",
   "execution_count": 6,
   "metadata": {},
   "outputs": [
    {
     "output_type": "execute_result",
     "data": {
      "text/plain": [
       "spacy.tokens.doc.Doc"
      ]
     },
     "metadata": {},
     "execution_count": 6
    }
   ],
   "source": [
    "type(doc)"
   ]
  },
  {
   "source": [
    "## La documentation est accessible ici, https://spacy.io/api/doc¶"
   ],
   "cell_type": "markdown",
   "metadata": {}
  },
  {
   "cell_type": "code",
   "execution_count": 7,
   "metadata": {},
   "outputs": [
    {
     "output_type": "execute_result",
     "data": {
      "text/plain": [
       "'Apple cherche à acheter une start-up anglaise pour 1 milliard de dollars'"
      ]
     },
     "metadata": {},
     "execution_count": 7
    }
   ],
   "source": [
    "doc.text"
   ]
  },
  {
   "cell_type": "code",
   "execution_count": 8,
   "metadata": {},
   "outputs": [
    {
     "output_type": "execute_result",
     "data": {
      "text/plain": [
       "{'text': 'Apple cherche à acheter une start-up anglaise pour 1 milliard de dollars',\n",
       " 'ents': [{'start': 0, 'end': 5, 'label': 'ORG'}],\n",
       " 'sents': [{'start': 0, 'end': 72}],\n",
       " 'tokens': [{'id': 0,\n",
       "   'start': 0,\n",
       "   'end': 5,\n",
       "   'pos': 'NOUN',\n",
       "   'tag': 'NOUN__Gender=Fem|Number=Sing',\n",
       "   'dep': 'ROOT',\n",
       "   'head': 0},\n",
       "  {'id': 1,\n",
       "   'start': 6,\n",
       "   'end': 13,\n",
       "   'pos': 'NOUN',\n",
       "   'tag': 'NOUN__Gender=Fem|Number=Sing',\n",
       "   'dep': 'amod',\n",
       "   'head': 0},\n",
       "  {'id': 2,\n",
       "   'start': 14,\n",
       "   'end': 15,\n",
       "   'pos': 'ADP',\n",
       "   'tag': 'ADP',\n",
       "   'dep': 'mark',\n",
       "   'head': 3},\n",
       "  {'id': 3,\n",
       "   'start': 16,\n",
       "   'end': 23,\n",
       "   'pos': 'VERB',\n",
       "   'tag': 'VERB__VerbForm=Inf',\n",
       "   'dep': 'acl',\n",
       "   'head': 0},\n",
       "  {'id': 4,\n",
       "   'start': 24,\n",
       "   'end': 27,\n",
       "   'pos': 'DET',\n",
       "   'tag': 'DET__Definite=Ind|Gender=Fem|Number=Sing|PronType=Art',\n",
       "   'dep': 'det',\n",
       "   'head': 5},\n",
       "  {'id': 5,\n",
       "   'start': 28,\n",
       "   'end': 33,\n",
       "   'pos': 'NOUN',\n",
       "   'tag': 'NOUN__Gender=Fem|Number=Sing',\n",
       "   'dep': 'obj',\n",
       "   'head': 3},\n",
       "  {'id': 6,\n",
       "   'start': 33,\n",
       "   'end': 34,\n",
       "   'pos': 'PUNCT',\n",
       "   'tag': 'PUNCT',\n",
       "   'dep': 'dep',\n",
       "   'head': 7},\n",
       "  {'id': 7,\n",
       "   'start': 34,\n",
       "   'end': 36,\n",
       "   'pos': 'PROPN',\n",
       "   'tag': 'PROPN',\n",
       "   'dep': 'iobj',\n",
       "   'head': 8},\n",
       "  {'id': 8,\n",
       "   'start': 37,\n",
       "   'end': 45,\n",
       "   'pos': 'VERB',\n",
       "   'tag': 'VERB__Gender=Fem|Number=Sing|Tense=Past|VerbForm=Part',\n",
       "   'dep': 'acl',\n",
       "   'head': 5},\n",
       "  {'id': 9,\n",
       "   'start': 46,\n",
       "   'end': 50,\n",
       "   'pos': 'ADP',\n",
       "   'tag': 'ADP',\n",
       "   'dep': 'case',\n",
       "   'head': 11},\n",
       "  {'id': 10,\n",
       "   'start': 51,\n",
       "   'end': 52,\n",
       "   'pos': 'NUM',\n",
       "   'tag': 'NUM__NumType=Card',\n",
       "   'dep': 'nummod',\n",
       "   'head': 11},\n",
       "  {'id': 11,\n",
       "   'start': 53,\n",
       "   'end': 61,\n",
       "   'pos': 'NOUN',\n",
       "   'tag': 'NOUN__Gender=Masc|Number=Sing|NumType=Card',\n",
       "   'dep': 'nmod',\n",
       "   'head': 8},\n",
       "  {'id': 12,\n",
       "   'start': 62,\n",
       "   'end': 64,\n",
       "   'pos': 'ADP',\n",
       "   'tag': 'ADP',\n",
       "   'dep': 'case',\n",
       "   'head': 13},\n",
       "  {'id': 13,\n",
       "   'start': 65,\n",
       "   'end': 72,\n",
       "   'pos': 'NOUN',\n",
       "   'tag': 'NOUN__Gender=Masc|Number=Plur',\n",
       "   'dep': 'nmod',\n",
       "   'head': 11}]}"
      ]
     },
     "metadata": {},
     "execution_count": 8
    }
   ],
   "source": [
    "doc.to_json()"
   ]
  },
  {
   "source": [
    "## Appliquer l'approche sur toutes les phrases\n"
   ],
   "cell_type": "markdown",
   "metadata": {}
  },
  {
   "cell_type": "code",
   "execution_count": 9,
   "metadata": {
    "tags": []
   },
   "outputs": [
    {
     "output_type": "stream",
     "name": "stdout",
     "text": [
      "'Apple cherche à acheter une start-up anglaise pour 1 milliard de dollars' contains the following entities: Apple (ORG)\n'Les voitures autonomes déplacent la responsabilité de l'assurance vers les constructeurs' contains no entities\n'San Francisco envisage d'interdire les robots coursiers sur les trottoirs' contains the following entities: San Francisco (LOC)\n'Londres est une grande ville du Royaume-Uni' contains the following entities: Londres (LOC), Royaume-Uni (LOC)\n'L’Italie choisit ArcelorMittal pour reprendre la plus grande aciérie d’Europe' contains the following entities: ArcelorMittal (MISC), Europe (LOC)\n'Apple lance HomePod parce qu'il se sent menacé par l'Echo d'Amazon' contains the following entities: Apple (ORG), HomePod (MISC), Echo (MISC)\n'La France ne devrait pas manquer d'électricité cet été, même en cas de canicule' contains the following entities: La France (LOC)\n'Nouvelles attaques de Trump contre le maire de Londres' contains the following entities: Trump (LOC), Londres (LOC)\n'Où es-tu ?' contains no entities\n'Qui est le président de la France ?' contains the following entities: la France (LOC)\n'Où est la capitale des États-Unis ?' contains the following entities: États-Unis (LOC)\n'Quand est né Barack Obama ?' contains the following entities: Barack Obama (PER)\n"
     ]
    }
   ],
   "source": [
    "for sent in sentences:\n",
    "    doc = nlp(sent)\n",
    "    entities = []\n",
    "    for ent in doc.ents:\n",
    "        entities.append(f\"{ent.text} ({ent.label_})\")\n",
    "    if entities:\n",
    "        print(f\"'{doc.text}' contains the following entities: {', '.join(entities)}\")\n",
    "    else:\n",
    "        print(f\"'{doc.text}' contains no entities\")"
   ]
  },
  {
   "source": [
    "## Application sur le corpus\n"
   ],
   "cell_type": "markdown",
   "metadata": {}
  },
  {
   "cell_type": "code",
   "execution_count": 10,
   "metadata": {
    "tags": []
   },
   "outputs": [],
   "source": [
    "# Charger le texte\n",
    "\n",
    "n=1000000\n",
    "text = open(\"../data/all.txt\", encoding='utf-8').read()[:n]"
   ]
  },
  {
   "cell_type": "code",
   "execution_count": 11,
   "metadata": {},
   "outputs": [
    {
     "output_type": "stream",
     "name": "stdout",
     "text": [
      "Wall time: 49.7 s\n"
     ]
    }
   ],
   "source": [
    "%%time\n",
    "# Traiter le texte\n",
    "\n",
    "doc = nlp(text)"
   ]
  },
  {
   "cell_type": "code",
   "execution_count": 12,
   "metadata": {},
   "outputs": [],
   "source": [
    "# Compter les entités\n",
    "\n",
    "people = defaultdict(int)\n",
    "\n",
    "for ent in doc.ents:\n",
    "    if ent.label_ == \"PER\" and len(ent.text) > 3:\n",
    "        people[ent.text] += 1"
   ]
  },
  {
   "cell_type": "code",
   "execution_count": 13,
   "metadata": {},
   "outputs": [
    {
     "output_type": "execute_result",
     "data": {
      "text/plain": [
       "defaultdict(int,\n",
       "            {'H. B': 1,\n",
       "             'I\\n\\nfai Phonnenr': 1,\n",
       "             'Adolphe Bartels': 1,\n",
       "             '— Dépôt': 1,\n",
       "             'M. le conseiller Bartels': 1,\n",
       "             'M. Bortier': 21,\n",
       "             'Hospices': 8,\n",
       "             'M. Partoes': 3,\n",
       "             'É V A L U A T I O N DES T': 1,\n",
       "             'Bortier': 65,\n",
       "             'M le Président': 1,\n",
       "             'Cluysenaar': 8,\n",
       "             'Jean-Philippe Verelst': 1,\n",
       "             'baron de Ghendt': 2,\n",
       "             'A. De la blanchisserie le Noyer': 1,\n",
       "             'Verelst': 4,\n",
       "             'Anne': 1,\n",
       "             'Marie Van Craenenbroeck': 1,\n",
       "             'baron de Ghendt de Lenglentier': 2,\n",
       "             'Phospiee': 1,\n",
       "             'Gendebien': 120,\n",
       "             'Messieurs': 24,\n",
       "             'Anspach': 32,\n",
       "             'Président': 6,\n",
       "             'De Hemplinne': 1,\n",
       "             'Pardon': 1,\n",
       "             'Pentretien': 1,\n",
       "             'Trumper': 4,\n",
       "             'Van Doornick': 6,\n",
       "             'Fontainas': 19,\n",
       "             'Van Gav e r': 1,\n",
       "             'Van der Elst': 2,\n",
       "             'De Page': 2,\n",
       "             '— Discussion': 3,\n",
       "             'Conservatoire': 2,\n",
       "             'Monsieur': 1,\n",
       "             'Communal': 2,\n",
       "             'Page': 21,\n",
       "             'Dedoncker': 4,\n",
       "             'Blaes': 17,\n",
       "             'M. le ministre': 1,\n",
       "             'Van der Schilde': 1,\n",
       "             'Majoration de fr': 1,\n",
       "             'Debie': 1,\n",
       "             'Vandenschrieck': 1,\n",
       "             'Hecquet de Bérenger': 1,\n",
       "             \"— FRAIS D'ADMINISTRATION\": 1,\n",
       "             'Loyers': 2,\n",
       "             '— DISTRIBUTION': 1,\n",
       "             'Frais': 1,\n",
       "             'Faite': 2,\n",
       "             '— Somme': 1,\n",
       "             '— Médicamens': 1,\n",
       "             '— Cercueils': 1,\n",
       "             'Exiger': 1,\n",
       "             'Ducpétiaux': 5,\n",
       "             'Recettes': 1,\n",
       "             'V i t': 1,\n",
       "             'Approbation': 2,\n",
       "             'M. Téchevin': 1,\n",
       "             '— Autorisations': 1,\n",
       "             'M. Ducpétiaux': 3,\n",
       "             \"M. L'échevin\": 1,\n",
       "             'Echevin Fontainas': 2,\n",
       "             'Echevin Doucet': 1,\n",
       "             'Sa Majesté': 1,\n",
       "             'MM. de Page': 1,\n",
       "             'Thienpont': 2,\n",
       "             'De Vadder': 2,\n",
       "             'Schumacher': 16,\n",
       "             'Van Gaver': 10,\n",
       "             'Michiels': 6,\n",
       "             'Vander Elst': 2,\n",
       "             'Verhulst': 4,\n",
       "             'Carbanson': 1,\n",
       "             'Pierre de Greef': 1,\n",
       "             'Vanderschilde': 1,\n",
       "             'Louise': 1,\n",
       "             'Lambert Deroovcr': 1,\n",
       "             'Lambert Deroover': 1,\n",
       "             'Van Volxem': 3,\n",
       "             'Van de Weyer': 1,\n",
       "             'M. Van de Weyer': 1,\n",
       "             'Echevin': 5,\n",
       "             '— Analyse': 1,\n",
       "             'Interpellation de M. Bartels': 1,\n",
       "             'M. Ducpetiaux': 8,\n",
       "             'Heyndrickx': 1,\n",
       "             'Decker': 2,\n",
       "             'Doncker': 43,\n",
       "             'Procès-verbal': 1,\n",
       "             'Remarquez': 2,\n",
       "             'Saint-Hubert': 5,\n",
       "             'MM. Van Gaver': 1,\n",
       "             'MM. Gendebien': 1,\n",
       "             'Madeleine': 7,\n",
       "             'M. Borlier': 1,\n",
       "             'Envoyez': 1,\n",
       "             'Vaurien hôpital Saint-Jean': 1,\n",
       "             'Faudra': 1,\n",
       "             'Saint Jean': 2,\n",
       "             'M. B': 1,\n",
       "             'Lemonnier': 1,\n",
       "             'G,000': 1,\n",
       "             'Marché de la Chapelle': 1,\n",
       "             'Marché Beauveau': 1,\n",
       "             'Hemptinne': 10,\n",
       "             'dYeus': 1,\n",
       "             'Tune': 2,\n",
       "             'M- Ducpetiaux': 1,\n",
       "             'M. Bartels': 3,\n",
       "             'Supprimez': 1,\n",
       "             '— Démission': 1,\n",
       "             'M. Defacqz': 4,\n",
       "             'M. Defecqï': 1,\n",
       "             'M. Glibert': 2,\n",
       "             'M. de Doncker': 5,\n",
       "             'Wouters de Bouchout': 1,\n",
       "             'M. Gallois': 1,\n",
       "             'Marchés': 3,\n",
       "             'Marché Sainte-Catherine': 1,\n",
       "             'Marché des Carmes': 1,\n",
       "             'Marché du Légat': 1,\n",
       "             'Honoré': 1,\n",
       "             'Schumaker': 1,\n",
       "             'Le Bourgmestre': 1,\n",
       "             'Chevalier\\n\\nBLAES': 1,\n",
       "             'Projet': 1,\n",
       "             'Bénéfice': 3,\n",
       "             'Intérêt': 1,\n",
       "             '— Prime': 1,\n",
       "             '— Paiemens': 1,\n",
       "             'rél«bli«8emenl': 1,\n",
       "             'marché des Patriarches': 1,\n",
       "             'Saint-Laurent': 1,\n",
       "             'Saint-Martin': 1,\n",
       "             'Poisson': 1,\n",
       "             'Beauveau': 2,\n",
       "             'Patriarches': 1,\n",
       "             'Herbes': 2,\n",
       "             'Tripes': 1,\n",
       "             'Supposez': 1,\n",
       "             '184.649 f r': 1,\n",
       "             'M. Doucet': 1,\n",
       "             'M. Cans': 1,\n",
       "             'Catherine': 2,\n",
       "             'Jean': 4,\n",
       "             'Celliers': 1,\n",
       "             'Antoine\\n': 1,\n",
       "             'Martin': 2,\n",
       "             'Honoré\\n\\nMarchés': 1,\n",
       "             'Marché des Prouvaires': 1,\n",
       "             'Joseph': 1,\n",
       "             'Nouveau': 1,\n",
       "             'Marché': 2,\n",
       "             'marché de la Madeleine': 1,\n",
       "             'Décompte': 1,\n",
       "             'Disposez': 1,\n",
       "             'MM. Verhulst': 1,\n",
       "             'Vadder': 2,\n",
       "             'Présidence': 2,\n",
       "             '— Interpellations': 1,\n",
       "             '— Approbations': 1,\n",
       "             'Trognée': 1,\n",
       "             'Distribution': 1,\n",
       "             'F. de Page': 1,\n",
       "             'Samedi': 2,\n",
       "             'M. Gendebien': 8,\n",
       "             'H. le bourgmestre': 1,\n",
       "             'D K BROUCKERE': 1,\n",
       "             '— Décret': 1,\n",
       "             '— Arrêté': 1,\n",
       "             'Code': 3,\n",
       "             'Lisons': 1,\n",
       "             'Prétendra': 1,\n",
       "             'général Prisse': 1,\n",
       "             'Contiendra': 1,\n",
       "             'S*agii': 1,\n",
       "             'Présidence de M': 1,\n",
       "             'Résolution': 1,\n",
       "             'Derosne': 1,\n",
       "             'M. V Canneel': 1,\n",
       "             'Renvoi': 4,\n",
       "             '-\\n\\nCahier': 1,\n",
       "             'M. Michiels': 1,\n",
       "             'M. le Bourgmestre': 5,\n",
       "             'Communication': 1,\n",
       "             'M. de Brouckere': 8,\n",
       "             'M. Van Meenen': 1,\n",
       "             'M. DE BROUCKERE': 1,\n",
       "             'Pris': 1,\n",
       "             '— Second': 1,\n",
       "             'GRAND-THÉÂTRE DE': 1,\n",
       "             'E. Le': 1,\n",
       "             'Velloni': 1,\n",
       "             'Léopold': 14,\n",
       "             'Brouckere': 63,\n",
       "             'Anne Boleyn': 1,\n",
       "             'M. Siret': 1,\n",
       "             'André Chénier': 1,\n",
       "             'Wallace': 1,\n",
       "             'Bachel': 1,\n",
       "             'Louis XI': 1,\n",
       "             'Jenneval': 1,\n",
       "             'Matis': 1,\n",
       "             'Bouchet': 1,\n",
       "             'Gêniez': 1,\n",
       "             'M\\nBaptiste': 1,\n",
       "             'Fan Dyck': 1,\n",
       "             'Pellaert': 1,\n",
       "             'Vaudeville': 1,\n",
       "             'Secondes': 2,\n",
       "             'Troisièmes': 2,\n",
       "             'M. Ranwet': 3,\n",
       "             'Autorisations': 1,\n",
       "             '— Abonnement': 1,\n",
       "             'Ic S': 1,\n",
       "             'Lettre de M. Maskens': 1,\n",
       "             'François Smets': 1,\n",
       "             'Gérard Vander Perre': 1,\n",
       "             'Revue': 1,\n",
       "             'Bulletin': 1,\n",
       "             'M. le Président': 2,\n",
       "             'Veuillez': 2,\n",
       "             'M. Blaes': 3,\n",
       "             'Van Meenen': 10,\n",
       "             'Bulletin Communal': 1,\n",
       "             'M. De Doncker': 1,\n",
       "             'Protégez': 1,\n",
       "             'Van der EIst': 1,\n",
       "             'M. de Dcncker': 1,\n",
       "             'Duverger': 2,\n",
       "             'baron de Ghent': 6,\n",
       "             'Lenglentier': 6,\n",
       "             'Philanthropie': 3,\n",
       "             'M. Cluysenaar': 8,\n",
       "             'M. Bourgeois': 2,\n",
       "             'Réduire': 1,\n",
       "             'Maria': 1,\n",
       "             'Thospice': 1,\n",
       "             'Yoilàun': 1,\n",
       "             'M. de Hemptinne': 1,\n",
       "             'M Blaes': 1,\n",
       "             'M. de Cluysenaar': 1,\n",
       "             'Hemptînne': 1,\n",
       "             'MM. Bourgeois': 1,\n",
       "             'MM. Trumper': 1,\n",
       "             'Détenus': 1,\n",
       "             'J*ai': 1,\n",
       "             'Attendu': 1,\n",
       "             'Le soussigné': 1,\n",
       "             'M. de': 2,\n",
       "             'Arrêtons': 1,\n",
       "             'Rlire': 1,\n",
       "             'Kevser': 1,\n",
       "             'Keyser': 1,\n",
       "             'M. V': 1,\n",
       "             'Wnra DE R A U': 1,\n",
       "             'r i t é': 1,\n",
       "             'M. de B': 1,\n",
       "             'Gomme Pa': 1,\n",
       "             'Abstraction': 1,\n",
       "             'Totaux': 3,\n",
       "             'Naraur': 1,\n",
       "             'Auvray': 1,\n",
       "             'M. Schumacher': 1,\n",
       "             'C. Disposition': 1,\n",
       "             'E. Vente': 1,\n",
       "             'G. Révision': 1,\n",
       "             'B. Déjà': 1,\n",
       "             'D. M': 1,\n",
       "             'G. Il': 1,\n",
       "             'A. Quant': 1,\n",
       "             \"A. D'\": 1,\n",
       "             \"B. D'\": 1,\n",
       "             \"E. D'\": 1,\n",
       "             'F. Détaxer': 1,\n",
       "             'Locquenghien': 1,\n",
       "             'Plan': 1,\n",
       "             'Subside': 1,\n",
       "             'Dansaert': 1,\n",
       "             'Subside extraordin': 1,\n",
       "             'Abattoir': 2,\n",
       "             'Entrepôt': 1,\n",
       "             'Suite': 1,\n",
       "             'Résider': 1,\n",
       "             'Thonorable M': 1,\n",
       "             'Hamer': 1,\n",
       "             'M i chiels': 1,\n",
       "             'Doomick': 1,\n",
       "             'Roi des Belges': 1,\n",
       "             'p. c.': 1,\n",
       "             'Vamortissement': 1,\n",
       "             'Moyennant': 1,\n",
       "             'Jedemande': 1,\n",
       "             'ThonorableM.deBrouckere': 1,\n",
       "             'Aucuue': 1,\n",
       "             'ii Diminuez': 1,\n",
       "             '— Vente': 1,\n",
       "             '— Alignement': 1,\n",
       "             \"M J'\": 1,\n",
       "             'Overput': 2,\n",
       "             'Rappelez': 1,\n",
       "             'Jîrouckere': 1,\n",
       "             'V E R': 1,\n",
       "             'Codification': 1,\n",
       "             '— Marché': 1,\n",
       "             'Ma maison': 1,\n",
       "             'habitans': 2,\n",
       "             'Reine': 2,\n",
       "             'Agneaux': 1,\n",
       "             'Viande': 1,\n",
       "             'Viandes': 1,\n",
       "             \"Boëtz d'Hamer\": 1,\n",
       "             'Songez': 1,\n",
       "             'MM. Ducpetiaux': 1,\n",
       "             'Annexe': 1,\n",
       "             'Déduction': 1,\n",
       "             'Primo': 1,\n",
       "             'De Villegas de Pellenberg': 1,\n",
       "             'M. de Villegas': 1,\n",
       "             'Basfonds': 4,\n",
       "             'Renvoyé': 1,\n",
       "             'Basse': 1,\n",
       "             'Mathieu': 1,\n",
       "             'Dupré': 1,\n",
       "             'Brandner': 1,\n",
       "             'Rahlenbeék': 1,\n",
       "             'Joly': 1,\n",
       "             'Bas-fonds': 1,\n",
       "             'Guillaume': 1,\n",
       "             'Le Roi': 1,\n",
       "             'Van Assche': 1,\n",
       "             'Interrompue': 1,\n",
       "             'Journées de Septembre': 1,\n",
       "             'M. P': 1,\n",
       "             'M. Engels': 1,\n",
       "             'M. C': 1,\n",
       "             '— DESTINATION DES BAS-FONDS': 1,\n",
       "             \"— ÉTABLISSEMENT D'UN\": 1,\n",
       "             'M. Nothomb': 1,\n",
       "             'c II': 1,\n",
       "             'S c h': 1,\n",
       "             'Mémoire de Af': 1,\n",
       "             'Bâtie': 1,\n",
       "             'M. Wéry': 1,\n",
       "             '— Mesurée': 1,\n",
       "             'M. Doublet': 1,\n",
       "             '— Etablir': 1,\n",
       "             '—Diviser les Bas-fonds': 1,\n",
       "             '— Allez': 1,\n",
       "             'Guillaume Mataigne': 1,\n",
       "             'Van Capenberg': 2,\n",
       "             'G. Mataigne': 1,\n",
       "             'F. Martin': 1,\n",
       "             'Engagez': 1,\n",
       "             'er\\n\\n': 1,\n",
       "             'stipulés ci-': 1,\n",
       "             '— PROPOSITION': 1,\n",
       "             'Apprécierez': 1,\n",
       "             'H La': 1,\n",
       "             'M. Basse': 1,\n",
       "             'Rapport': 1,\n",
       "             'Orts': 1,\n",
       "             'Lundi': 1,\n",
       "             'Peffet': 1,\n",
       "             'MM. Blaes': 1,\n",
       "             'MM. Ducpétiaux': 1,\n",
       "             'Defecqt': 1,\n",
       "             'RL le Bourgmestre': 1,\n",
       "             'Exiger de M': 1,\n",
       "             'Réduite': 1})"
      ]
     },
     "metadata": {},
     "execution_count": 13
    }
   ],
   "source": [
    "people"
   ]
  },
  {
   "cell_type": "code",
   "execution_count": 15,
   "metadata": {},
   "outputs": [
    {
     "output_type": "stream",
     "name": "stdout",
     "text": [
      "Gendebien appears 120 times in the corpus\nBortier appears 65 times in the corpus\nBrouckere appears 63 times in the corpus\nDoncker appears 43 times in the corpus\nAnspach appears 32 times in the corpus\nMessieurs appears 24 times in the corpus\nM. Bortier appears 21 times in the corpus\nPage appears 21 times in the corpus\nFontainas appears 19 times in the corpus\nBlaes appears 17 times in the corpus\n"
     ]
    }
   ],
   "source": [
    "# Trier et imprimer\n",
    "\n",
    "sorted_people = sorted(people.items(), key=lambda kv: kv[1], reverse=True)\n",
    "\n",
    "for person, freq in sorted_people[:10]:\n",
    "    print(f\"{person} appears {freq} times in the corpus\")"
   ]
  },
  {
   "cell_type": "code",
   "execution_count": null,
   "metadata": {},
   "outputs": [],
   "source": []
  }
 ]
}