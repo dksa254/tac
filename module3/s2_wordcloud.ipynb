{
 "metadata": {
  "language_info": {
   "codemirror_mode": {
    "name": "ipython",
    "version": 3
   },
   "file_extension": ".py",
   "mimetype": "text/x-python",
   "name": "python",
   "nbconvert_exporter": "python",
   "pygments_lexer": "ipython3",
   "version": "3.8.6-final"
  },
  "orig_nbformat": 2,
  "kernelspec": {
   "name": "python3",
   "display_name": "Python 3.8.6 64-bit",
   "metadata": {
    "interpreter": {
     "hash": "99c2798fddc8ab331820d6d51255fa2b50880962d32a1f192cdb341488373fd1"
    }
   }
  }
 },
 "nbformat": 4,
 "nbformat_minor": 2,
 "cells": [
  {
   "source": [
    "# Construire des wordcloud basés sur deux années différentes de bulletins"
   ],
   "cell_type": "markdown",
   "metadata": {}
  },
  {
   "source": [
    "## Créer un fichier contenant les bulletins de l'année 1880"
   ],
   "cell_type": "markdown",
   "metadata": {}
  },
  {
   "cell_type": "code",
   "execution_count": 1,
   "metadata": {},
   "outputs": [],
   "source": [
    "#Choisir une année\n",
    "\n",
    "YEAR = 1882"
   ]
  },
  {
   "cell_type": "code",
   "execution_count": 2,
   "metadata": {},
   "outputs": [
    {
     "output_type": "execute_result",
     "data": {
      "text/plain": [
       "['Bxl_1882_Tome_I1_Part_1.txt',\n",
       " 'Bxl_1882_Tome_I1_Part_2.txt',\n",
       " 'Bxl_1882_Tome_I1_Part_3.txt',\n",
       " 'Bxl_1882_Tome_I1_Part_4.txt',\n",
       " 'Bxl_1882_Tome_I1_Part_5.txt',\n",
       " 'Bxl_1882_Tome_I1_Part_6.txt',\n",
       " 'Bxl_1882_Tome_I1_Part_7.txt',\n",
       " 'Bxl_1882_Tome_I2_Part_1.txt',\n",
       " 'Bxl_1882_Tome_I2_Part_10.txt',\n",
       " 'Bxl_1882_Tome_I2_Part_11.txt',\n",
       " 'Bxl_1882_Tome_I2_Part_12.txt',\n",
       " 'Bxl_1882_Tome_I2_Part_13.txt',\n",
       " 'Bxl_1882_Tome_I2_Part_2.txt',\n",
       " 'Bxl_1882_Tome_I2_Part_3.txt',\n",
       " 'Bxl_1882_Tome_I2_Part_4.txt',\n",
       " 'Bxl_1882_Tome_I2_Part_5.txt',\n",
       " 'Bxl_1882_Tome_I2_Part_6.txt',\n",
       " 'Bxl_1882_Tome_I2_Part_7.txt',\n",
       " 'Bxl_1882_Tome_I2_Part_8.txt',\n",
       " 'Bxl_1882_Tome_I2_Part_9.txt',\n",
       " 'Lkn_1882_Tome_I_Part_1.txt',\n",
       " 'Lkn_1882_Tome_I_Part_2.txt',\n",
       " 'Lkn_1882_Tome_I_Part_3.txt',\n",
       " 'Lkn_1882_Tome_I_Part_4.txt',\n",
       " 'Lkn_1882_Tome_I_Part_5.txt',\n",
       " 'Lkn_1882_Tome_RptAn_Part_1.txt',\n",
       " 'Lkn_1882_Tome_RptAn_Part_2.txt',\n",
       " 'Lkn_1882_Tome_RptAn_Part_3.txt',\n",
       " 'Lkn_1882_Tome_RptAn_Part_4.txt',\n",
       " 'Lkn_1882_Tome_RptAn_Part_5.txt',\n",
       " 'Lkn_1882_Tome_RptAn_Part_6.txt',\n",
       " 'Lkn_1882_Tome_RptAn_Part_7.txt',\n",
       " 'Lkn_1882_Tome_RptAn_Part_8.txt']"
      ]
     },
     "metadata": {},
     "execution_count": 2
    }
   ],
   "source": [
    "# Lister les fichiers de cette année\n",
    "\n",
    "from os import listdir\n",
    "from os.path import isfile, join\n",
    "\n",
    "data_path = '../data'\n",
    "txt_path = '../data/txt'\n",
    "txts = [f for f in listdir(txt_path) if isfile(join(txt_path, f)) and str(YEAR) in f]\n",
    "txts"
   ]
  },
  {
   "cell_type": "code",
   "execution_count": 3,
   "metadata": {},
   "outputs": [],
   "source": [
    "# Stocker le contenu de ces fichiers dans une liste\n",
    "\n",
    "content_list = []\n",
    "for txt in txts:\n",
    "    with open(f'{txt_path}/{txt}', encoding='utf-8') as f:\n",
    "        content_list.append(f.read())"
   ]
  },
  {
   "cell_type": "code",
   "execution_count": 4,
   "metadata": {},
   "outputs": [],
   "source": [
    "# Ecrire tout le contenu dans un fichier\n",
    "\n",
    "with open(f'tmp/{YEAR}.txt', 'w', encoding='utf-8') as f:\n",
    "    f.write(' '.join(content_list))"
   ]
  },
  {
   "source": [
    "## Enlever les stopwords, les mots courts et non alphabétiques et stocker le résultat dans un nouveau fichier"
   ],
   "cell_type": "markdown",
   "metadata": {}
  },
  {
   "cell_type": "code",
   "execution_count": 5,
   "metadata": {
    "tags": []
   },
   "outputs": [
    {
     "output_type": "execute_result",
     "data": {
      "text/plain": [
       "'BULLETIN\\n\\nCOMMUNAL\\n\\n. ANNÉE\\n\\nPREMIÈRE\\n\\nTOME\\n\\nCOMPTE\\n\\nRENDU\\n\\n1882.\\n\\nPARTIE.\\n\\nI\\n\\nDES\\n\\nSÉANCES,\\n\\nBRUXELLES\\nIMPRIMERIE D E V\\n\\nV E\\n\\nJULIEN\\n\\nBAERTSOEN, SUOC* D E\\n\\n18 82\\n\\nBOLS-WITTOUCK.\\n\\n\\x0c\\x0cN° I.\\n\\nCOMPTE RENDU DE LA SÉANCE DU 1\\n\\nVILLE\\n\\nD E\\n\\ner\\n\\nJANVIER 1882.\\n\\nBRUXELLES.\\n\\nBULLETIN C O M M U N A L\\nÎANNÉE\\n\\nC O N S E I L\\nSéance\\n\\n1882.\\n\\nC O M M U N A L .\\ndu 1 janvier\\n\\nPrésidence de\\n\\ner\\n\\nM.\\n\\nBULS,\\n\\n1882.\\n\\nBourgmestre.\\n\\nSOMMAIRE :\\n\\nEchevias. — Prestation de serment.\\nConseillers communaux. — Id.\\nReceveur commun'"
      ]
     },
     "metadata": {},
     "execution_count": 5
    }
   ],
   "source": [
    "# Imprimer le contenu du fichier et constater les \"déchets\"\n",
    "\n",
    "with open(f'tmp/{YEAR}.txt', 'r', encoding='utf-8') as f:\n",
    "    before = f.read()\n",
    "\n",
    "before[:500]"
   ]
  },
  {
   "cell_type": "code",
   "execution_count": 6,
   "metadata": {},
   "outputs": [
    {
     "output_type": "execute_result",
     "data": {
      "text/plain": [
       "'Output has been written in tmp/1882_keywords.txt!'"
      ]
     },
     "metadata": {},
     "execution_count": 6
    }
   ],
   "source": [
    "# Appliquer la fonction filtering (que vous pouvez customiser)\n",
    "\n",
    "from filtering import filtering\n",
    "\n",
    "filtering(YEAR, folder='tmp')"
   ]
  },
  {
   "cell_type": "code",
   "execution_count": 7,
   "metadata": {},
   "outputs": [
    {
     "output_type": "execute_result",
     "data": {
      "text/plain": [
       "'bulletin communal année première tome compte rendu partie séances bruxelles imprimerie julien baertsoen suoc bols wittouck compte rendu séance janvier bruxelles bulletin îannée séance janvier présidence buls bourgmestre sommaire echevias prestation serment conseillers communaux receveur communal conseil communal composition sections interpellation pilloy séance ouverte mid présents buis bourgmestre eau walravens andré echevins becquet faisant fonctions echevin godefroy dcpaire veldekens guillery'"
      ]
     },
     "metadata": {},
     "execution_count": 7
    }
   ],
   "source": [
    "# Vérifier le résultat\n",
    "\n",
    "with open(f'tmp/{YEAR}_keywords.txt', 'r', encoding='utf-8') as f:\n",
    "    after = f.read()\n",
    "\n",
    "after[:500]"
   ]
  },
  {
   "source": [
    "## Créer le word cloud"
   ],
   "cell_type": "markdown",
   "metadata": {}
  },
  {
   "cell_type": "code",
   "execution_count": null,
   "metadata": {},
   "outputs": [],
   "source": [
    "import subprocess\n",
    "\n",
    "command = [\n",
    "    'wordcloud_cli',\n",
    "    '--text', f'tmp/{YEAR}_keywords.txt',\n",
    "    '--imagefile', f'tmp/{YEAR}.png',\n",
    "    '--width', '2000',\n",
    "    '--height', '1000',\n",
    "]\n",
    "\n",
    "subprocess.run(command, capture_output=True)"
   ]
  },
  {
   "source": [
    "## Afficher le word cloud"
   ],
   "cell_type": "markdown",
   "metadata": {}
  },
  {
   "cell_type": "code",
   "execution_count": null,
   "metadata": {},
   "outputs": [],
   "source": [
    "from IPython.display import Image\n",
    "\n",
    "Image(filename=f'tmp/{YEAR}.png')"
   ]
  },
  {
   "cell_type": "code",
   "execution_count": null,
   "metadata": {},
   "outputs": [],
   "source": []
  },
  {
   "cell_type": "code",
   "execution_count": null,
   "metadata": {},
   "outputs": [],
   "source": []
  },
  {
   "source": [
    "## Créer un fichier contenant les bulletins de l'année 1960"
   ],
   "cell_type": "markdown",
   "metadata": {}
  },
  {
   "cell_type": "code",
   "execution_count": 8,
   "metadata": {},
   "outputs": [],
   "source": [
    "#Choisir une année\n",
    "\n",
    "YEAR = 1960"
   ]
  },
  {
   "cell_type": "code",
   "execution_count": 9,
   "metadata": {},
   "outputs": [
    {
     "output_type": "execute_result",
     "data": {
      "text/plain": [
       "['Bxl_1960_Tome_II1_Part_1.txt',\n",
       " 'Bxl_1960_Tome_II1_Part_2.txt',\n",
       " 'Bxl_1960_Tome_II1_Part_3.txt',\n",
       " 'Bxl_1960_Tome_II1_Part_4.txt',\n",
       " 'Bxl_1960_Tome_II1_Part_5.txt',\n",
       " 'Bxl_1960_Tome_II1_Part_6.txt',\n",
       " 'Bxl_1960_Tome_II1_Part_7.txt',\n",
       " 'Bxl_1960_Tome_II1_Part_8.txt',\n",
       " 'Bxl_1960_Tome_II2_Part_1.txt',\n",
       " 'Bxl_1960_Tome_II2_Part_2.txt',\n",
       " 'Bxl_1960_Tome_II2_Part_3.txt',\n",
       " 'Bxl_1960_Tome_II2_Part_4.txt',\n",
       " 'Bxl_1960_Tome_II2_Part_5.txt',\n",
       " 'Bxl_1960_Tome_II2_Part_6.txt',\n",
       " 'Bxl_1960_Tome_II2_Part_7.txt',\n",
       " 'Bxl_1960_Tome_II2_Part_8.txt',\n",
       " 'Bxl_1960_Tome_II2_Part_9.txt',\n",
       " 'Bxl_1960_Tome_I_Part_1.txt',\n",
       " 'Bxl_1960_Tome_I_Part_10.txt',\n",
       " 'Bxl_1960_Tome_I_Part_11.txt',\n",
       " 'Bxl_1960_Tome_I_Part_12.txt',\n",
       " 'Bxl_1960_Tome_I_Part_13.txt',\n",
       " 'Bxl_1960_Tome_I_Part_2.txt',\n",
       " 'Bxl_1960_Tome_I_Part_3.txt',\n",
       " 'Bxl_1960_Tome_I_Part_4.txt',\n",
       " 'Bxl_1960_Tome_I_Part_5.txt',\n",
       " 'Bxl_1960_Tome_I_Part_6.txt',\n",
       " 'Bxl_1960_Tome_I_Part_7.txt',\n",
       " 'Bxl_1960_Tome_I_Part_8.txt',\n",
       " 'Bxl_1960_Tome_I_Part_9.txt',\n",
       " 'Bxl_1960_Tome_RptAn_Part_1.txt',\n",
       " 'Bxl_1960_Tome_RptAn_Part_2.txt',\n",
       " 'Bxl_1960_Tome_RptAn_Part_3.txt',\n",
       " 'Bxl_1960_Tome_RptAn_Part_4.txt',\n",
       " 'Bxl_1960_Tome_RptAn_Part_5.txt',\n",
       " 'Bxl_1960_Tome_RptAn_Part_6.txt',\n",
       " 'Bxl_1960_Tome_RptAn_Part_7.txt',\n",
       " 'Bxl_1960_Tome_RptAn_Part_8.txt',\n",
       " 'Bxl_1960_Tome_RptAn_Part_9.txt']"
      ]
     },
     "metadata": {},
     "execution_count": 9
    }
   ],
   "source": [
    "# Lister les fichiers de cette année\n",
    "\n",
    "from os import listdir\n",
    "from os.path import isfile, join\n",
    "\n",
    "data_path = '../data'\n",
    "txt_path = '../data/txt'\n",
    "txts = [f for f in listdir(txt_path) if isfile(join(txt_path, f)) and str(YEAR) in f]\n",
    "txts"
   ]
  },
  {
   "cell_type": "code",
   "execution_count": 10,
   "metadata": {},
   "outputs": [],
   "source": [
    "# Stocker le contenu de ces fichiers dans une liste\n",
    "\n",
    "content_list = []\n",
    "for txt in txts:\n",
    "    with open(f'{txt_path}/{txt}', encoding='utf-8') as f:\n",
    "        content_list.append(f.read())"
   ]
  },
  {
   "cell_type": "code",
   "execution_count": 11,
   "metadata": {},
   "outputs": [],
   "source": [
    "# Ecrire tout le contenu dans un fichier\n",
    "\n",
    "with open(f'tmp/{YEAR}.txt', 'w', encoding='utf-8') as f:\n",
    "    f.write(' '.join(content_list))"
   ]
  },
  {
   "source": [
    "## Enlever les stopwords, les mots courts et non alphabétiques et stocker le résultat dans un nouveau fichier"
   ],
   "cell_type": "markdown",
   "metadata": {}
  },
  {
   "cell_type": "code",
   "execution_count": 12,
   "metadata": {},
   "outputs": [
    {
     "output_type": "execute_result",
     "data": {
      "text/plain": [
       "'PUBLICATION\\n\\nPERIODIQUE\\n\\nVILLE DE BRUXELLES\\n\\nAnnée 1960\\n\\nBULLETIN\\nCOMMUNAL\\nTOME II \"\\n_u\\n\\nImpr. H . 6 M . S C H A U M A N S\\nSociété\\n\\nAnonyme\\n\\nParvis Saint-Gilles, 41\\nBruxelles\\n1960\\n\\n\\x0c\\x0cN\" 14\\n\\nCOMPTE\\n\\nR E N D U D E L A S E A N C E D U 1\"\\' A O U T\\n\\nVILLE\\n\\nDE\\n\\n1960\\n\\nBRUXELLES\\n\\nBULLETIN\\n\\nCOMMUNAL\\n\\n(Publication\\n\\npériodique)\\n\\nA n n é e 1960\\n\\nCONSEIL\\n\\nS é a n c e du\\n\\nPRESIDENCE\\n\\nCOMMUNAL\\n\\n1\\n\\ner\\n\\naoût\\n\\nDE M .\\n\\n1960.\\n\\nCOOREMANS,\\n\\nBourgmestre.\\n\\nSOMMAIRE :\\nPages\\n1.\\n\\n2.\\n\\n3.\\n\\n4.\\n\\nEvénements tragiques du Congo.'"
      ]
     },
     "metadata": {},
     "execution_count": 12
    }
   ],
   "source": [
    "# Imprimer le contenu du fichier et constater les \"déchets\"\n",
    "\n",
    "with open(f'tmp/{YEAR}.txt', 'r', encoding='utf-8') as f:\n",
    "    before = f.read()\n",
    "\n",
    "before[:500]"
   ]
  },
  {
   "cell_type": "code",
   "execution_count": 13,
   "metadata": {},
   "outputs": [
    {
     "output_type": "execute_result",
     "data": {
      "text/plain": [
       "'Output has been written in tmp/1960_keywords.txt!'"
      ]
     },
     "metadata": {},
     "execution_count": 13
    }
   ],
   "source": [
    "# Appliquer la fonction filtering (que vous pouvez customiser)\n",
    "\n",
    "from filtering import filtering\n",
    "\n",
    "filtering(YEAR, folder='tmp')"
   ]
  },
  {
   "cell_type": "code",
   "execution_count": 14,
   "metadata": {},
   "outputs": [
    {
     "output_type": "execute_result",
     "data": {
      "text/plain": [
       "'publication periodique bruxelles année bulletin communal tome impr société anonyme parvis saint gilles bruxelles compte bruxelles bulletin communal publication périodique conseil presidence communal août cooremans bourgmestre sommaire pages evénements tragiques congo vote crédit extraordinaire faveur rapatriéa congo sports avant projet construction bâtiment vestiaire installation éclairage électrique stade annexe heysel académie royale beaux arts construction escalier béton devis projets montant'"
      ]
     },
     "metadata": {},
     "execution_count": 14
    }
   ],
   "source": [
    "# Vérifier le résultat\n",
    "\n",
    "with open(f'tmp/{YEAR}_keywords.txt', 'r', encoding='utf-8') as f:\n",
    "    after = f.read()\n",
    "\n",
    "after[:500]"
   ]
  },
  {
   "source": [
    "## Créer le word cloud"
   ],
   "cell_type": "markdown",
   "metadata": {}
  },
  {
   "cell_type": "code",
   "execution_count": null,
   "metadata": {},
   "outputs": [],
   "source": [
    "import subprocess\n",
    "\n",
    "command = [\n",
    "    'wordcloud_cli',\n",
    "    '--text', f'tmp/{YEAR}_keywords.txt',\n",
    "    '--imagefile', f'tmp/{YEAR}.png',\n",
    "    '--width', '2000',\n",
    "    '--height', '1000',\n",
    "]\n",
    "\n",
    "subprocess.run(command, capture_output=True)"
   ]
  },
  {
   "source": [
    "## Afficher le word cloud"
   ],
   "cell_type": "markdown",
   "metadata": {}
  },
  {
   "cell_type": "code",
   "execution_count": null,
   "metadata": {},
   "outputs": [],
   "source": [
    "from IPython.display import Image\n",
    "\n",
    "Image(filename=f'tmp/{YEAR}.png')"
   ]
  }
 ]
}