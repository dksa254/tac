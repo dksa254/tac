{
 "metadata": {
  "language_info": {
   "codemirror_mode": {
    "name": "ipython",
    "version": 3
   },
   "file_extension": ".py",
   "mimetype": "text/x-python",
   "name": "python",
   "nbconvert_exporter": "python",
   "pygments_lexer": "ipython3",
   "version": "3.8.6-final"
  },
  "orig_nbformat": 2,
  "kernelspec": {
   "name": "python3",
   "display_name": "Python 3.8.6 64-bit",
   "metadata": {
    "interpreter": {
     "hash": "99c2798fddc8ab331820d6d51255fa2b50880962d32a1f192cdb341488373fd1"
    }
   }
  }
 },
 "nbformat": 4,
 "nbformat_minor": 2,
 "cells": [
  {
   "source": [
    "# Testing keyword extraction with YAKE"
   ],
   "cell_type": "markdown",
   "metadata": {}
  },
  {
   "cell_type": "code",
   "execution_count": 1,
   "metadata": {},
   "outputs": [],
   "source": [
    "import os\n",
    "import yake"
   ]
  },
  {
   "source": [
    "## Extraire les mots clés des documents avec YAKE"
   ],
   "cell_type": "markdown",
   "metadata": {}
  },
  {
   "cell_type": "code",
   "execution_count": 2,
   "metadata": {},
   "outputs": [
    {
     "output_type": "execute_result",
     "data": {
      "text/plain": [
       "{'- Frais',\n",
       " '- Salaire',\n",
       " 'Burgemeester',\n",
       " 'Collège van Burgemeester',\n",
       " 'Monsieur le bourgmestre',\n",
       " 'ainsi',\n",
       " 'alors',\n",
       " 'approbation',\n",
       " 'après',\n",
       " 'assez',\n",
       " 'attendu',\n",
       " 'aussi',\n",
       " 'autre',\n",
       " 'autres',\n",
       " 'avoir',\n",
       " 'beaucoup',\n",
       " 'bien',\n",
       " 'car',\n",
       " 'cela',\n",
       " 'celle',\n",
       " 'cependant',\n",
       " 'cet',\n",
       " 'cette',\n",
       " 'chaque',\n",
       " 'chose',\n",
       " 'comme',\n",
       " 'conseil communal',\n",
       " 'conseil général',\n",
       " 'contre',\n",
       " 'depuis',\n",
       " 'des',\n",
       " 'deux',\n",
       " 'dire',\n",
       " 'dit',\n",
       " 'doit',\n",
       " 'donc',\n",
       " 'dont',\n",
       " 'duur van',\n",
       " 'déjà',\n",
       " 'encore',\n",
       " 'entre',\n",
       " 'faire',\n",
       " 'fait',\n",
       " 'faut',\n",
       " 'het',\n",
       " 'ils',\n",
       " 'jusqu',\n",
       " 'la',\n",
       " 'le',\n",
       " 'les',\n",
       " 'madame',\n",
       " 'mesdames',\n",
       " 'messieurs',\n",
       " 'moins',\n",
       " 'monsieur',\n",
       " 'mot',\n",
       " 'non',\n",
       " 'part',\n",
       " 'pendant',\n",
       " 'peu',\n",
       " 'peut',\n",
       " 'plus',\n",
       " 'président',\n",
       " 'quant',\n",
       " 'sans',\n",
       " 'sous',\n",
       " 'tant',\n",
       " 'telle',\n",
       " 'tous',\n",
       " 'tout',\n",
       " 'toutes',\n",
       " 'trois',\n",
       " 'trop',\n",
       " 'trouve',\n",
       " 'très',\n",
       " 'un',\n",
       " 'une',\n",
       " 'van',\n",
       " 'van het',\n",
       " 'vient',\n",
       " 'ville',\n",
       " 'voorbehoud van goedkeuring door de Provinciegouverneur',\n",
       " 'échevin',\n",
       " 'établir',\n",
       " 'être'}"
      ]
     },
     "metadata": {},
     "execution_count": 2
    }
   ],
   "source": [
    "# Faire une liste des mots à ignorer\n",
    "ignored = set([\"conseil communal\", \"conseil général\", \"les\", \"plus\", \"cette\", \"fait\", \"faire\", \"être\", \"deux\", \"comme\", \"dont\", \"tout\",\n",
    "       \"ils\", \"bien\", \"sans\", \"peut\", \"tous\", \"après\", \"ainsi\", \"donc\", \"cet\", \"sous\",\n",
    "       \"celle\", \"entre\", \"encore\", \"toutes\", \"pendant\", \"moins\", \"dire\", \"cela\", \"non\",\n",
    "       \"faut\", \"trois\", \"aussi\", \"dit\", \"avoir\", \"doit\", \"contre\", \"depuis\", \"autres\",\n",
    "       \"van\", \"het\", \"autre\", \"jusqu\", \"ville\", \"trouve\",\"mot\",\"peu\",\"tant\",\"chaque\",\n",
    "       \"cependant\", \"assez\",\"peu\",\"beaucoup\",\"car\",\"trop\",\"vient\",\"très\",\"alors\",\"établir\",\n",
    "       \"telle\",\"déjà\",\"chose\",\"part\", \"quant\", \"le\",\"la\",\"des\",\"un\",\"une\", \"madame\", \"monsieur\",\n",
    "       \"messieurs\",\"mesdames\",\"attendu\",\"président\",\"échevin\",\"Monsieur le bourgmestre\",\"van het\",\n",
    "       \"Collège van Burgemeester\",\"approbation\", \"Burgemeester\",\"voorbehoud van goedkeuring door de Provinciegouverneur\",\"- Salaire\",\n",
    "       \"- Frais\", \"duur van\"])\n",
    "ignored"
   ]
  },
  {
   "cell_type": "code",
   "execution_count": 3,
   "metadata": {},
   "outputs": [
    {
     "output_type": "execute_result",
     "data": {
      "text/plain": [
       "<yake.yake.KeywordExtractor at 0x2a7297f1520>"
      ]
     },
     "metadata": {},
     "execution_count": 3
    }
   ],
   "source": [
    "# Instantier l'extracteur de mots clés\n",
    "kw_extractor = yake.KeywordExtractor(lan=\"fr\", top=20)\n",
    "kw_extractor"
   ]
  },
  {
   "cell_type": "code",
   "execution_count": 4,
   "metadata": {},
   "outputs": [],
   "source": [
    "# Lister les PDFs\n",
    "data_path = \"../data/txt/\"\n",
    "files = os.listdir(data_path)"
   ]
  },
  {
   "cell_type": "code",
   "execution_count": 5,
   "metadata": {},
   "outputs": [
    {
     "output_type": "execute_result",
     "data": {
      "text/plain": [
       "2828"
      ]
     },
     "metadata": {},
     "execution_count": 5
    }
   ],
   "source": [
    "# Imprimer le nombre de PDFs identifiés\n",
    "len(files)"
   ]
  },
  {
   "cell_type": "code",
   "execution_count": 6,
   "metadata": {},
   "outputs": [
    {
     "output_type": "execute_result",
     "data": {
      "text/plain": [
       "['Bxl_1847_Tome_I1_Part_1.txt',\n",
       " 'Bxl_1847_Tome_I1_Part_2.txt',\n",
       " 'Bxl_1847_Tome_I1_Part_3.txt',\n",
       " 'Bxl_1847_Tome_I1_Part_4.txt',\n",
       " 'Bxl_1847_Tome_I1_Part_5.txt',\n",
       " 'Bxl_1848_Tome_I1_Part_1.txt',\n",
       " 'Bxl_1848_Tome_I1_Part_2.txt',\n",
       " 'Bxl_1848_Tome_I1_Part_3.txt',\n",
       " 'Bxl_1849_Tome_I1_Part_1.txt',\n",
       " 'Bxl_1849_Tome_I1_Part_2.txt',\n",
       " 'Bxl_1849_Tome_I1_Part_3.txt',\n",
       " 'Bxl_1849_Tome_I1_Part_4.txt',\n",
       " 'Bxl_1849_Tome_I1_Part_5.txt',\n",
       " 'Bxl_1849_Tome_II1_Part_1.txt',\n",
       " 'Bxl_1849_Tome_II1_Part_2.txt',\n",
       " 'Bxl_1849_Tome_II1_Part_3.txt',\n",
       " 'Bxl_1849_Tome_II1_Part_4.txt',\n",
       " 'Bxl_1849_Tome_II1_Part_5.txt',\n",
       " 'Bxl_1849_Tome_II1_Part_6.txt',\n",
       " 'Bxl_1849_Tome_II1_Part_7.txt']"
      ]
     },
     "metadata": {},
     "execution_count": 6
    }
   ],
   "source": [
    "# Les dix premiers PDFs\n",
    "files[:20]"
   ]
  },
  {
   "cell_type": "code",
   "execution_count": 7,
   "metadata": {},
   "outputs": [
    {
     "output_type": "execute_result",
     "data": {
      "text/plain": [
       "2677"
      ]
     },
     "metadata": {},
     "execution_count": 7
    }
   ],
   "source": [
    "# Enlever les fichiers qui ne commencent pas par Bxl_\n",
    "bxl_files = [f for f in files if f.startswith('Bxl_')]\n",
    "len(bxl_files)"
   ]
  },
  {
   "cell_type": "code",
   "execution_count": 8,
   "metadata": {},
   "outputs": [
    {
     "output_type": "execute_result",
     "data": {
      "text/plain": [
       "'Bxl_1851_Tome_II1_Part_7.txt'"
      ]
     },
     "metadata": {},
     "execution_count": 8
    }
   ],
   "source": [
    "# Choisir un fichier\n",
    "this_file = bxl_files[42]\n",
    "this_file"
   ]
  },
  {
   "cell_type": "code",
   "execution_count": 9,
   "metadata": {},
   "outputs": [
    {
     "output_type": "execute_result",
     "data": {
      "text/plain": [
       "\"— 587\\n\\n_\\n\\nP r e m i è r e b a l a n c e à f a i r e . I l y a d a n s ce p r o j e t u n i m m e n s e avantage p o u r les propriétaires r i v e r a i n s . . . . J e n e m ' y r a l l i e r a i q u e s i\\nje s u i s assuré d ' u n c o n c o u r s s u f f i s a n t de l e u r p a r t à l a d é p e n s e . A\\ncette conditionne v o t e r a i ce p r o j e t , p a r c e q u ' i l est u t i l e , p a r c e q u ' i l\\nest p e u c o û t e u x , et s u r t o u t p a r c e q u ' i l e n t e r r e t o u s l\""
      ]
     },
     "metadata": {},
     "execution_count": 9
    }
   ],
   "source": [
    "# Récupérer le texte dans le fichier\n",
    "text = open(f'{data_path}/{this_file}', encoding='utf-8').read()\n",
    "text[:500]"
   ]
  },
  {
   "cell_type": "code",
   "execution_count": 10,
   "metadata": {},
   "outputs": [],
   "source": [
    "# Extraire les mots clés de ce texte\n",
    "keywords = kw_extractor.extract_keywords(text)"
   ]
  },
  {
   "cell_type": "code",
   "execution_count": 11,
   "metadata": {},
   "outputs": [
    {
     "output_type": "execute_result",
     "data": {
      "text/plain": [
       "[(\"c'est\", 0.0028498678345994463),\n",
       " ('conseil', 0.003028760287207713),\n",
       " ('projet', 0.00430469132372881),\n",
       " ('collège', 0.004328624107683449),\n",
       " ('montagne', 0.005828678036199464),\n",
       " ('section', 0.007842091286942243),\n",
       " (\"d'une\", 0.008382542508288071),\n",
       " (\"l'administration des hospices\", 0.0093663834547135),\n",
       " ('hospices', 0.010946634792955235),\n",
       " ('mètres', 0.011952303628168563),\n",
       " ('budget', 0.012137720103416337),\n",
       " ('séance', 0.012233338965651278),\n",
       " ('rapport', 0.012442374352604818),\n",
       " ('pâté', 0.013513805918093905),\n",
       " ('vote', 0.015217391180844702),\n",
       " ('faire', 0.015542129090031385),\n",
       " ('projets', 0.015927357897796597),\n",
       " (\"l'administration\", 0.01699076881319443),\n",
       " ('taxes communales', 0.01924143654778442),\n",
       " (\"n'est\", 0.020419006087800517)]"
      ]
     },
     "metadata": {},
     "execution_count": 11
    }
   ],
   "source": [
    "keywords"
   ]
  },
  {
   "cell_type": "code",
   "execution_count": 12,
   "metadata": {},
   "outputs": [
    {
     "output_type": "execute_result",
     "data": {
      "text/plain": [
       "['rapport']"
      ]
     },
     "metadata": {},
     "execution_count": 12
    }
   ],
   "source": [
    "'rapport'.split()"
   ]
  },
  {
   "cell_type": "code",
   "execution_count": 13,
   "metadata": {},
   "outputs": [
    {
     "output_type": "error",
     "ename": "AttributeError",
     "evalue": "'numpy.float64' object has no attribute 'split'",
     "traceback": [
      "\u001b[1;31m---------------------------------------------------------------------------\u001b[0m",
      "\u001b[1;31mAttributeError\u001b[0m                            Traceback (most recent call last)",
      "\u001b[1;32m<ipython-input-13-0be2713e2090>\u001b[0m in \u001b[0;36m<module>\u001b[1;34m\u001b[0m\n\u001b[0;32m      2\u001b[0m \u001b[0mkept\u001b[0m \u001b[1;33m=\u001b[0m \u001b[1;33m[\u001b[0m\u001b[1;33m]\u001b[0m\u001b[1;33m\u001b[0m\u001b[1;33m\u001b[0m\u001b[0m\n\u001b[0;32m      3\u001b[0m \u001b[1;32mfor\u001b[0m \u001b[0mscore\u001b[0m\u001b[1;33m,\u001b[0m \u001b[0mkw\u001b[0m \u001b[1;32min\u001b[0m \u001b[0mkeywords\u001b[0m\u001b[1;33m:\u001b[0m\u001b[1;33m\u001b[0m\u001b[1;33m\u001b[0m\u001b[0m\n\u001b[1;32m----> 4\u001b[1;33m     \u001b[0mwords\u001b[0m \u001b[1;33m=\u001b[0m \u001b[0mkw\u001b[0m\u001b[1;33m.\u001b[0m\u001b[0msplit\u001b[0m\u001b[1;33m(\u001b[0m\u001b[1;33m)\u001b[0m\u001b[1;33m\u001b[0m\u001b[1;33m\u001b[0m\u001b[0m\n\u001b[0m\u001b[0;32m      5\u001b[0m     \u001b[1;32mif\u001b[0m \u001b[0mlen\u001b[0m\u001b[1;33m(\u001b[0m\u001b[0mwords\u001b[0m\u001b[1;33m)\u001b[0m \u001b[1;33m>\u001b[0m \u001b[1;36m1\u001b[0m \u001b[1;32mand\u001b[0m \u001b[0mkw\u001b[0m \u001b[1;32mnot\u001b[0m \u001b[1;32min\u001b[0m \u001b[0mignored\u001b[0m\u001b[1;33m:\u001b[0m\u001b[1;33m\u001b[0m\u001b[1;33m\u001b[0m\u001b[0m\n\u001b[0;32m      6\u001b[0m         \u001b[0mkept\u001b[0m\u001b[1;33m.\u001b[0m\u001b[0mappend\u001b[0m\u001b[1;33m(\u001b[0m\u001b[0mkw\u001b[0m\u001b[1;33m)\u001b[0m\u001b[1;33m\u001b[0m\u001b[1;33m\u001b[0m\u001b[0m\n",
      "\u001b[1;31mAttributeError\u001b[0m: 'numpy.float64' object has no attribute 'split'"
     ]
    }
   ],
   "source": [
    "# Ne garder que les bigrams\n",
    "kept = []\n",
    "for score, kw in keywords:\n",
    "    words = kw.split()\n",
    "    if len(words) > 1 and kw not in ignored:\n",
    "        kept.append(kw)\n",
    "kept"
   ]
  },
  {
   "cell_type": "code",
   "execution_count": null,
   "metadata": {},
   "outputs": [],
   "source": [
    "Extraire les mots clés des documents avec YAKE"
   ]
  },
  {
   "cell_type": "code",
   "execution_count": 14,
   "metadata": {},
   "outputs": [
    {
     "output_type": "error",
     "ename": "AttributeError",
     "evalue": "'numpy.float64' object has no attribute 'split'",
     "traceback": [
      "\u001b[1;31m---------------------------------------------------------------------------\u001b[0m",
      "\u001b[1;31mAttributeError\u001b[0m                            Traceback (most recent call last)",
      "\u001b[1;32m<ipython-input-14-68313f274255>\u001b[0m in \u001b[0;36m<module>\u001b[1;34m\u001b[0m\n\u001b[0;32m      4\u001b[0m     \u001b[0mkept\u001b[0m \u001b[1;33m=\u001b[0m \u001b[1;33m[\u001b[0m\u001b[1;33m]\u001b[0m\u001b[1;33m\u001b[0m\u001b[1;33m\u001b[0m\u001b[0m\n\u001b[0;32m      5\u001b[0m     \u001b[1;32mfor\u001b[0m \u001b[0mscore\u001b[0m\u001b[1;33m,\u001b[0m \u001b[0mkw\u001b[0m \u001b[1;32min\u001b[0m \u001b[0mkeywords\u001b[0m\u001b[1;33m:\u001b[0m\u001b[1;33m\u001b[0m\u001b[1;33m\u001b[0m\u001b[0m\n\u001b[1;32m----> 6\u001b[1;33m         \u001b[0mwords\u001b[0m \u001b[1;33m=\u001b[0m \u001b[0mkw\u001b[0m\u001b[1;33m.\u001b[0m\u001b[0msplit\u001b[0m\u001b[1;33m(\u001b[0m\u001b[1;33m)\u001b[0m\u001b[1;33m\u001b[0m\u001b[1;33m\u001b[0m\u001b[0m\n\u001b[0m\u001b[0;32m      7\u001b[0m         \u001b[1;32mif\u001b[0m \u001b[0mlen\u001b[0m\u001b[1;33m(\u001b[0m\u001b[0mwords\u001b[0m\u001b[1;33m)\u001b[0m \u001b[1;33m>\u001b[0m \u001b[1;36m1\u001b[0m \u001b[1;32mand\u001b[0m \u001b[0mkw\u001b[0m \u001b[1;32mnot\u001b[0m \u001b[1;32min\u001b[0m \u001b[0mignored\u001b[0m\u001b[1;33m:\u001b[0m\u001b[1;33m\u001b[0m\u001b[1;33m\u001b[0m\u001b[0m\n\u001b[0;32m      8\u001b[0m             \u001b[0mkept\u001b[0m\u001b[1;33m.\u001b[0m\u001b[0mappend\u001b[0m\u001b[1;33m(\u001b[0m\u001b[0mkw\u001b[0m\u001b[1;33m)\u001b[0m\u001b[1;33m\u001b[0m\u001b[1;33m\u001b[0m\u001b[0m\n",
      "\u001b[1;31mAttributeError\u001b[0m: 'numpy.float64' object has no attribute 'split'"
     ]
    }
   ],
   "source": [
    "\n",
    "for f in sorted(bxl_files)[:10]:\n",
    "    text = open(f'{data_path}/{f}', encoding='utf-8').read()\n",
    "    keywords = kw_extractor.extract_keywords(text)\n",
    "    kept = []\n",
    "    for score, kw in keywords:\n",
    "        words = kw.split()\n",
    "        if len(words) > 1 and kw not in ignored:\n",
    "            kept.append(kw)\n",
    "    print(f\"{f} mentions these keywords: {', '.join(kept)}...\")"
   ]
  },
  {
   "cell_type": "code",
   "execution_count": null,
   "metadata": {},
   "outputs": [],
   "source": []
  }
 ]
}