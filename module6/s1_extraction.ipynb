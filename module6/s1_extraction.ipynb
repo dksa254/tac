{
 "metadata": {
  "language_info": {
   "codemirror_mode": {
    "name": "ipython",
    "version": 3
   },
   "file_extension": ".py",
   "mimetype": "text/x-python",
   "name": "python",
   "nbconvert_exporter": "python",
   "pygments_lexer": "ipython3",
   "version": "3.8.6-final"
  },
  "orig_nbformat": 2,
  "kernelspec": {
   "name": "python3",
   "display_name": "Python 3.8.6 64-bit",
   "metadata": {
    "interpreter": {
     "hash": "99c2798fddc8ab331820d6d51255fa2b50880962d32a1f192cdb341488373fd1"
    }
   }
  }
 },
 "nbformat": 4,
 "nbformat_minor": 2,
 "cells": [
  {
   "source": [
    "Extract text from various types of files"
   ],
   "cell_type": "markdown",
   "metadata": {}
  },
  {
   "cell_type": "code",
   "execution_count": 1,
   "metadata": {},
   "outputs": [],
   "source": [
    "import os\n",
    "import textract"
   ]
  },
  {
   "source": [
    "Nous allons lister tous les fichiers dans le dossier dummy"
   ],
   "cell_type": "markdown",
   "metadata": {}
  },
  {
   "cell_type": "code",
   "execution_count": 3,
   "metadata": {},
   "outputs": [],
   "source": [
    "path = 'dummy/'\n",
    "files = os.listdir(path)\n",
    "print(files)"
   ]
  },
  {
   "source": [
    "\n",
    "Pour chaque fichier (Word, PowerPoint, MP3, etc.) nous allons extraire le texte avec une boucle for.\n",
    "\n",
    "Important, si vous recevez le message d'erreur suivant The command XXX dummy/test.XXX stdout failed because the executable XXX is not installed on your system, lisez bien la documentation ici :\n",
    "\n",
    "https://textract.readthedocs.io/en/latest/installation.html\n",
    "\n",
    "Exécutez ces trois commandes sur MacOs\n",
    "\n",
    "brew cask install xquartz\n",
    "brew install poppler antiword unrtf tesseract swig sox\n",
    "pip install textrac\n",
    "Et ceci sur Linux\n",
    "\n",
    "apt-get install python-dev libxml2-dev libxslt1-dev antiword unrtf poppler-utils pstotext tesseract-ocr flac ffmpeg lame libmad0 libsox-fmt-mp3 sox libjpeg-dev swig libpulse-dev\n",
    "pip install textract\n",
    "Certains messages d'erreurs peuvent apparaîtres, vous devrez probablement ouvrir les droits en lecture de certains fichiers avec la commande chmod."
   ],
   "cell_type": "markdown",
   "metadata": {}
  },
  {
   "cell_type": "code",
   "execution_count": 4,
   "metadata": {},
   "outputs": [],
   "source": [
    "for f in sorted(files):\n",
    "    text = textract.process(path+f)\n",
    "    print(text.decode('utf-8').strip())"
   ]
  }
 ]
}