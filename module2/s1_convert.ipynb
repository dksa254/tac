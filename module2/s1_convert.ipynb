{
 "metadata": {
  "language_info": {
   "codemirror_mode": {
    "name": "ipython",
    "version": 3
   },
   "file_extension": ".py",
   "mimetype": "text/x-python",
   "name": "python",
   "nbconvert_exporter": "python",
   "pygments_lexer": "ipython3",
   "version": "3.8.6-final"
  },
  "orig_nbformat": 2,
  "kernelspec": {
   "name": "python3",
   "display_name": "Python 3.8.6 64-bit",
   "metadata": {
    "interpreter": {
     "hash": "99c2798fddc8ab331820d6d51255fa2b50880962d32a1f192cdb341488373fd1"
    }
   }
  }
 },
 "nbformat": 4,
 "nbformat_minor": 2,
 "cells": [
  {
   "source": [
    "# Converting PDFs to text files and moving them to a new directory"
   ],
   "cell_type": "markdown",
   "metadata": {}
  },
  {
   "source": [
    "## Lister les fichiers dans `data/pdf`"
   ],
   "cell_type": "markdown",
   "metadata": {}
  },
  {
   "cell_type": "code",
   "execution_count": 1,
   "metadata": {},
   "outputs": [],
   "source": [
    "from os import listdir\n",
    "from os.path import isfile, join\n",
    "\n",
    "pdf_path = '../data/pdf'\n",
    "\n",
    "pdfs = [f for f in listdir(pdf_path) if isfile(join(pdf_path, f))]"
   ]
  },
  {
   "cell_type": "code",
   "execution_count": 2,
   "metadata": {},
   "outputs": [
    {
     "output_type": "execute_result",
     "data": {
      "text/plain": [
       "['Bxl_1847_Tome_I1_Part_1.txt',\n",
       " 'Bxl_1847_Tome_I1_Part_2.txt',\n",
       " 'Bxl_1847_Tome_I1_Part_3.txt']"
      ]
     },
     "metadata": {},
     "execution_count": 2
    }
   ],
   "source": [
    "pdfs[:3]"
   ]
  },
  {
   "source": [
    "## Installer PdfToText (MacOS)\n",
    "\n",
    "Sur le terminal, lancer :\n",
    "\n",
    "```\n",
    "ruby -e \"$(curl -fsSL https://raw.githubusercontent.com/Homebrew/install/master/install)\" < /dev/null 2> /dev/null ; brew install caskroom/cask/brew-cask 2> /dev/null\n",
    "```\n",
    "\n",
    "Et puis :\n",
    "```\n",
    "brew cask install pdftotext\n",
    "```"
   ],
   "cell_type": "markdown",
   "metadata": {}
  },
  {
   "source": [
    "## Convertir les PDFs en TXT"
   ],
   "cell_type": "markdown",
   "metadata": {}
  },
  {
   "cell_type": "code",
   "execution_count": 13,
   "metadata": {},
   "outputs": [],
   "source": [
    "import subprocess"
   ]
  },
  {
   "cell_type": "code",
   "execution_count": 4,
   "metadata": {},
   "outputs": [],
   "source": [
    "from pathlib import Path\n",
    "\n",
    "txt_path = '../data/txt'\n",
    "\n",
    "Path(txt_path).mkdir(parents=True, exist_ok=True)"
   ]
  },
  {
   "cell_type": "code",
   "execution_count": 5,
   "metadata": {},
   "outputs": [],
   "source": [
    "txts = [f for f in listdir(txt_path) if isfile(join(txt_path, f))]"
   ]
  },
  {
   "cell_type": "code",
   "execution_count": 6,
   "metadata": {},
   "outputs": [
    {
     "output_type": "execute_result",
     "data": {
      "text/plain": [
       "['Bxl_1847_Tome_I1_Part_1.txt',\n",
       " 'Bxl_1847_Tome_I1_Part_2.txt',\n",
       " 'Bxl_1847_Tome_I1_Part_3.txt',\n",
       " 'Bxl_1847_Tome_I1_Part_4.txt',\n",
       " 'Bxl_1847_Tome_I1_Part_5.txt',\n",
       " 'Bxl_1848_Tome_I1_Part_1.txt',\n",
       " 'Bxl_1848_Tome_I1_Part_2.txt',\n",
       " 'Bxl_1848_Tome_I1_Part_3.txt',\n",
       " 'Bxl_1849_Tome_I1_Part_1.txt',\n",
       " 'Bxl_1849_Tome_I1_Part_2.txt']"
      ]
     },
     "metadata": {},
     "execution_count": 6
    }
   ],
   "source": [
    "txts[:10]"
   ]
  },
  {
   "cell_type": "code",
   "execution_count": 14,
   "metadata": {},
   "outputs": [],
   "source": [
    "not_converted_pdfs = [p for p in pdfs if f'{p[:-3]}txt' not in txts ]"
   ]
  },
  {
   "cell_type": "code",
   "execution_count": 15,
   "metadata": {},
   "outputs": [
    {
     "output_type": "execute_result",
     "data": {
      "text/plain": [
       "2828"
      ]
     },
     "metadata": {},
     "execution_count": 15
    }
   ],
   "source": [
    "len(pdfs)"
   ]
  },
  {
   "cell_type": "code",
   "execution_count": 16,
   "metadata": {
    "tags": []
   },
   "outputs": [],
   "source": [
    "for pdf in not_converted_pdfs:\n",
    "    command = [\n",
    "        'pdftotext',\n",
    "        f'{pdf_path}/{pdf}',\n",
    "        f'{txt_path}/{pdf[:-3]}txt'\n",
    "    ]\n",
    "    subprocess.run(command, capture_output=True)\n",
    "    print(f\"{pdf} converted!\")\n",
    "    "
   ]
  },
  {
   "source": [
    "## Consolider tous les fichiers en un (Bash)"
   ],
   "cell_type": "markdown",
   "metadata": {}
  },
  {
   "cell_type": "code",
   "execution_count": 1,
   "metadata": {
    "tags": []
   },
   "outputs": [
    {
     "output_type": "stream",
     "name": "stderr",
     "text": [
      "'cat' n'est pas reconnu en tant que commande interne\nou externe, un programme ex�cutable ou un fichier de commandes.\n"
     ]
    }
   ],
   "source": [
    "!cat ../data/txt/*.txt > ../data/all.txt"
   ]
  },
  {
   "cell_type": "code",
   "execution_count": null,
   "metadata": {},
   "outputs": [],
   "source": [
    "La commande cat ne fonctionnait pas sur mon Windows. Il a fallut que je lance le fichier s1_convert.sh dans le terminal.."
   ]
  },
  {
   "source": [
    "## Compter le nombre de mots"
   ],
   "cell_type": "markdown",
   "metadata": {}
  },
  {
   "cell_type": "code",
   "execution_count": 17,
   "metadata": {
    "tags": []
   },
   "outputs": [
    {
     "output_type": "stream",
     "name": "stderr",
     "text": [
      "'wc' n'est pas reconnu en tant que commande interne\nou externe, un programme ex�cutable ou un fichier de commandes.\n"
     ]
    }
   ],
   "source": [
    "!wc ../data/all.txt"
   ]
  },
  {
   "cell_type": "code",
   "execution_count": null,
   "metadata": {},
   "outputs": [],
   "source": [
    "La commande wc ne fonctionne pas sur mon windows. Elle n'est pas reconnu."
   ]
  }
 ]
}