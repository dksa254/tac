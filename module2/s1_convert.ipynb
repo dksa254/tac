{
 "metadata": {
  "language_info": {
   "codemirror_mode": {
    "name": "ipython",
    "version": 3
   },
   "file_extension": ".py",
   "mimetype": "text/x-python",
   "name": "python",
   "nbconvert_exporter": "python",
   "pygments_lexer": "ipython3",
   "version": "3.8.6-final"
  },
  "orig_nbformat": 2,
  "kernelspec": {
   "name": "python3",
   "display_name": "Python 3.8.6 64-bit",
   "metadata": {
    "interpreter": {
     "hash": "99c2798fddc8ab331820d6d51255fa2b50880962d32a1f192cdb341488373fd1"
    }
   }
  }
 },
 "nbformat": 4,
 "nbformat_minor": 2,
 "cells": [
  {
   "source": [
    "# Converting PDFs to text files and moving them to a new directory"
   ],
   "cell_type": "markdown",
   "metadata": {}
  },
  {
   "source": [
    "## Lister les fichiers dans `data/pdf`"
   ],
   "cell_type": "markdown",
   "metadata": {}
  },
  {
   "cell_type": "code",
   "execution_count": 1,
   "metadata": {},
   "outputs": [],
   "source": [
    "from os import listdir\n",
    "from os.path import isfile, join\n",
    "\n",
    "pdf_path = '../data/pdf'\n",
    "\n",
    "pdfs = [f for f in listdir(pdf_path) if isfile(join(pdf_path, f))]"
   ]
  },
  {
   "cell_type": "code",
   "execution_count": 2,
   "metadata": {},
   "outputs": [
    {
     "output_type": "execute_result",
     "data": {
      "text/plain": [
       "['Bxl_1847_Tome_I1_Part_1.txt',\n",
       " 'Bxl_1847_Tome_I1_Part_2.txt',\n",
       " 'Bxl_1847_Tome_I1_Part_3.txt']"
      ]
     },
     "metadata": {},
     "execution_count": 2
    }
   ],
   "source": [
    "pdfs[:3]"
   ]
  },
  {
   "source": [
    "## Installer PdfToText (MacOS)\n",
    "\n",
    "Sur le terminal, lancer :\n",
    "\n",
    "```\n",
    "ruby -e \"$(curl -fsSL https://raw.githubusercontent.com/Homebrew/install/master/install)\" < /dev/null 2> /dev/null ; brew install caskroom/cask/brew-cask 2> /dev/null\n",
    "```\n",
    "\n",
    "Et puis :\n",
    "```\n",
    "brew cask install pdftotext\n",
    "```"
   ],
   "cell_type": "markdown",
   "metadata": {}
  },
  {
   "source": [
    "## Convertir les PDFs en TXT"
   ],
   "cell_type": "markdown",
   "metadata": {}
  },
  {
   "cell_type": "code",
   "execution_count": 3,
   "metadata": {},
   "outputs": [],
   "source": [
    "import subprocess"
   ]
  },
  {
   "cell_type": "code",
   "execution_count": 4,
   "metadata": {},
   "outputs": [],
   "source": [
    "from pathlib import Path\n",
    "\n",
    "txt_path = '../data/txt'\n",
    "\n",
    "Path(txt_path).mkdir(parents=True, exist_ok=True)"
   ]
  },
  {
   "cell_type": "code",
   "execution_count": 5,
   "metadata": {
    "tags": []
   },
   "outputs": [
    {
     "output_type": "stream",
     "name": "stdout",
     "text": [
      "Bxl_1847_Tome_I1_Part_5.pdf converted!\n",
      "Bxl_1847_Tome_I1_Part_4.pdf converted!\n",
      "Bxl_1847_Tome_I1_Part_1.pdf converted!\n",
      "Bxl_1847_Tome_I1_Part_3.pdf converted!\n",
      "Bxl_1847_Tome_I1_Part_2.pdf converted!\n"
     ]
    }
   ],
   "source": [
    "for pdf in pdfs:\n",
    "    command = [\n",
    "        'pdftotext',\n",
    "        f'{pdf_path}/{pdf}',\n",
    "        f'{txt_path}/{pdf[:-3]}txt'\n",
    "    ]\n",
    "    subprocess.run(command, capture_output=True)\n",
    "    print(f\"{pdf} converted!\")\n",
    "    "
   ]
  },
  {
   "source": [
    "## Consolider tous les fichiers en un (Bash)"
   ],
   "cell_type": "markdown",
   "metadata": {}
  },
  {
   "cell_type": "code",
   "execution_count": 6,
   "metadata": {
    "tags": []
   },
   "outputs": [],
   "source": [
    "!cat ../data/txt/*.txt > ../data/all.txt"
   ]
  },
  {
   "source": [
    "## Compter le nombre de mots"
   ],
   "cell_type": "markdown",
   "metadata": {}
  },
  {
   "cell_type": "code",
   "execution_count": 7,
   "metadata": {
    "tags": []
   },
   "outputs": [
    {
     "output_type": "stream",
     "name": "stdout",
     "text": [
      "    3752  269637 1467248 ../data/all.txt\n"
     ]
    }
   ],
   "source": [
    "!wc ../data/all.txt"
   ]
  },
  {
   "cell_type": "code",
   "execution_count": null,
   "metadata": {},
   "outputs": [],
   "source": []
  }
 ]
}