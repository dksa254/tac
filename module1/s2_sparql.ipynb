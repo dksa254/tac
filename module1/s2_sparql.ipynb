{
 "metadata": {
  "language_info": {
   "codemirror_mode": {
    "name": "ipython",
    "version": 3
   },
   "file_extension": ".py",
   "mimetype": "text/x-python",
   "name": "python",
   "nbconvert_exporter": "python",
   "pygments_lexer": "ipython3",
   "version": "3.8.6-final"
  },
  "orig_nbformat": 2,
  "kernelspec": {
   "name": "python3",
   "display_name": "Python 3.8.6 64-bit",
   "metadata": {
    "interpreter": {
     "hash": "99c2798fddc8ab331820d6d51255fa2b50880962d32a1f192cdb341488373fd1"
    }
   }
  }
 },
 "nbformat": 4,
 "nbformat_minor": 2,
 "cells": [
  {
   "source": [
    "# Query Wikidata for Belgian politicians"
   ],
   "cell_type": "markdown",
   "metadata": {}
  },
  {
   "cell_type": "code",
   "execution_count": 20,
   "metadata": {},
   "outputs": [],
   "source": [
    "from datetime import datetime as dt\n",
    "\n",
    "from SPARQLWrapper import SPARQLWrapper, JSON"
   ]
  },
  {
   "source": [
    "## Fonctions"
   ],
   "cell_type": "markdown",
   "metadata": {}
  },
  {
   "cell_type": "code",
   "execution_count": 21,
   "metadata": {},
   "outputs": [],
   "source": [
    "def get_rows():\n",
    "    \"\"\"Retrieve results from SPARQL\"\"\"\n",
    "    endpoint = \"https://query.wikidata.org/bigdata/namespace/wdq/sparql\"\n",
    "    sparql = SPARQLWrapper(endpoint)\n",
    "\n",
    "    statement = \"\"\"\n",
    "    SELECT DISTINCT ?person ?personLabel ?dateBirth ?dateDeath WHERE {\n",
    "        ?person wdt:P27 wd:Q31 .\n",
    "        ?person wdt:P21 wd:Q6581097 .\n",
    "        ?person wdt:P106 wd:Q82955 .\n",
    "        ?person wdt:P569 ?dateBirth .\n",
    "        ?person wdt:P39 wd:Q33126365 .\n",
    "        OPTIONAL {?person wdt:P570 ?dateDeath .}\n",
    "        SERVICE wikibase:label { bd:serviceParam wikibase:language \"en\" . }\n",
    "    }\n",
    "    ORDER BY ?personLabel\n",
    "    \"\"\"\n",
    "\n",
    "    sparql.setQuery(statement)\n",
    "    sparql.setReturnFormat(JSON)\n",
    "    results = sparql.query().convert()\n",
    "\n",
    "    rows = results['results']['bindings']\n",
    "    print(f\"\\n{len(rows)} Belgian politicians who also were bourgmestre found\\n\")\n",
    "    return rows"
   ]
  },
  {
   "cell_type": "code",
   "execution_count": 22,
   "metadata": {},
   "outputs": [],
   "source": [
    "def show(rows, name_filter=None, n=10):\n",
    "    \"\"\"Display n politicians (default=10)\"\"\"\n",
    "    date_format = \"%Y-%m-%dT%H:%M:%SZ\"\n",
    "    if name_filter:\n",
    "        rows = [row for row in rows if name_filter in row['personLabel']['value'].lower()]\n",
    "    print(f\"Displaying the first {n}:\\n\")\n",
    "    for row in rows[:n]:\n",
    "        try:\n",
    "            birth_date = dt.strptime(row['dateBirth']['value'], date_format)\n",
    "            birth_year = birth_date.year\n",
    "        except ValueError:\n",
    "            birth_year = \"????\"\n",
    "        try:\n",
    "            death_date = dt.strptime(row['dateDeath']['value'], date_format)\n",
    "            death_year = death_date.year\n",
    "        except ValueError: # unknown death date\n",
    "            death_year = \"????\"\n",
    "        except KeyError: # still alive\n",
    "            death_year = \"\"\n",
    "        print(f\"{row['personLabel']['value']} ({birth_year}-{death_year})\")"
   ]
  },
  {
   "source": [
    "## Obtenir une liste des politiciens belges depuis Wiki Data "
   ],
   "cell_type": "markdown",
   "metadata": {}
  },
  {
   "cell_type": "code",
   "execution_count": 23,
   "metadata": {
    "tags": []
   },
   "outputs": [
    {
     "output_type": "stream",
     "name": "stdout",
     "text": [
      "\n18 Belgian politicians who also were bourgmestre found\n\n"
     ]
    }
   ],
   "source": [
    "rows = get_rows()"
   ]
  },
  {
   "source": [
    "## Imprimer les 30 premiers politiciens"
   ],
   "cell_type": "markdown",
   "metadata": {}
  },
  {
   "cell_type": "code",
   "execution_count": 24,
   "metadata": {
    "tags": []
   },
   "outputs": [
    {
     "output_type": "stream",
     "name": "stdout",
     "text": [
      "Displaying the first 10:\n\nAdolphe Max (1869-1939)\nCharles-Joseph, 4th Duke d'Ursel (1777-1860)\nFelix Vanderstraeten (1823-1884)\nFrançois-Xavier de Donnea (1941-)\nFreddy Thielemans (1944-)\nGuillaume Van Volxem (1791-1868)\nHervé Brouhon (1924-1993)\nJan Grauls (1887-1960)\nJan-Baptist Verlooy (1746-1797)\nJean de Locquenghien (1518-1574)\n"
     ]
    }
   ],
   "source": [
    "show(rows, n=10)"
   ]
  }
 ]
}