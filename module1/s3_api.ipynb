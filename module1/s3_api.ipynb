{
 "metadata": {
  "language_info": {
   "codemirror_mode": {
    "name": "ipython",
    "version": 3
   },
   "file_extension": ".py",
   "mimetype": "text/x-python",
   "name": "python",
   "nbconvert_exporter": "python",
   "pygments_lexer": "ipython3",
   "version": "3.8.6-final"
  },
  "orig_nbformat": 2,
  "kernelspec": {
   "name": "python3",
   "display_name": "Python 3.8.6 64-bit",
   "metadata": {
    "interpreter": {
     "hash": "99c2798fddc8ab331820d6d51255fa2b50880962d32a1f192cdb341488373fd1"
    }
   }
  }
 },
 "nbformat": 4,
 "nbformat_minor": 2,
 "cells": [
  {
   "source": [
    "# Testing web APIs with HTTP GET method"
   ],
   "cell_type": "markdown",
   "metadata": {}
  },
  {
   "cell_type": "code",
   "execution_count": 21,
   "metadata": {},
   "outputs": [],
   "source": [
    "import json\n",
    "import sys\n",
    "\n",
    "import requests"
   ]
  },
  {
   "source": [
    "## Fonctions"
   ],
   "cell_type": "markdown",
   "metadata": {}
  },
  {
   "cell_type": "code",
   "execution_count": 22,
   "metadata": {},
   "outputs": [],
   "source": [
    "import requests\n",
    "\n",
    "def locations(locations):\n",
    "    url = \"https://hotels4.p.rapidapi.com/locations/search\"\n",
    "    querystring = {\"query\":\"bruxelles\",\"locale\":\"en_US\"}\n",
    "    headers = {\n",
    "    'x-rapidapi-key': \"f4fa486957msh657dcc064d10cb8p17b721jsn5897eafcd9a6\",\n",
    "    'x-rapidapi-host': \"hotels4.p.rapidapi.com\"\n",
    "    }\n",
    "    response = requests.request(\"GET\", url, headers=headers, params=querystring)\n",
    "    \n",
    "    print( f\" {locations} locations in Belgium {response.text} \" )"
   ]
  },
  {
   "source": [
    "Récupérer des informations sur des endroits en Belgique."
   ],
   "cell_type": "markdown",
   "metadata": {}
  },
  {
   "cell_type": "code",
   "execution_count": 23,
   "metadata": {
    "tags": []
   },
   "outputs": [
    {
     "output_type": "stream",
     "name": "stdout",
     "text": [
      " 10 locations in Belgium {\"term\":\"bruxelles\",\"moresuggestions\":941,\"autoSuggestInstance\":null,\"trackingID\":\"6076e669-ce86-4cc3-b85b-cee143cff16d\",\"misspellingfallback\":false,\"suggestions\":[{\"group\":\"CITY_GROUP\",\"entities\":[{\"geoId\":\"1000000000000000690\",\"destinationId\":\"59474\",\"landmarkCityDestinationId\":null,\"type\":\"CITY\",\"caption\":\"Brussels, Belgium (<span class='highlighted'>Bruxelles</span>)\",\"redirectPage\":\"DEFAULT_PAGE\",\"latitude\":50.8465,\"longitude\":4.35331,\"name\":\"Brussels\"},{\"geoId\":\"1000000000006051229\",\"destinationId\":\"10234047\",\"landmarkCityDestinationId\":null,\"type\":\"REGION\",\"caption\":\"Brussels-Capital Region, Belgium (<span class='highlighted'>Bruxelles</span>-Hovedstadsregionen)\",\"redirectPage\":\"DEFAULT_PAGE\",\"latitude\":50.836103,\"longitude\":4.369808,\"name\":\"Brussels-Capital Region\"},{\"geoId\":\"1000000000006139368\",\"destinationId\":\"1705514\",\"landmarkCityDestinationId\":null,\"type\":\"REGION\",\"caption\":\"Brussels West, Belgium (<span class='highlighted'>Bruxelles</span> Vest)\",\"redirectPage\":\"DEFAULT_PAGE\",\"latitude\":50.874304,\"longitude\":4.31419,\"name\":\"Brussels West\"},{\"geoId\":\"1000000000006139363\",\"destinationId\":\"1705510\",\"landmarkCityDestinationId\":null,\"type\":\"REGION\",\"caption\":\"Brussels East, Belgium (<span class='highlighted'>Bruxelles</span> Est)\",\"redirectPage\":\"DEFAULT_PAGE\",\"latitude\":50.871937,\"longitude\":4.427227,\"name\":\"Brussels East\"},{\"geoId\":\"1000000000006225243\",\"destinationId\":\"1749350\",\"landmarkCityDestinationId\":null,\"type\":\"CITY\",\"caption\":\"Anderlecht, Belgium (<span class='highlighted'>Bruxelles</span>)\",\"redirectPage\":\"DEFAULT_PAGE\",\"latitude\":50.829719,\"longitude\":4.290954,\"name\":\"Anderlecht\"},{\"geoId\":\"1000000000000178456\",\"destinationId\":\"1695546\",\"landmarkCityDestinationId\":null,\"type\":\"CITY\",\"caption\":\"Schaerbeek, Belgium (<span class='highlighted'>Bruxelles</span>)\",\"redirectPage\":\"DEFAULT_PAGE\",\"latitude\":50.863664,\"longitude\":4.384869,\"name\":\"Schaerbeek\"}]},{\"group\":\"LANDMARK_GROUP\",\"entities\":[{\"geoId\":\"1000000000006132050\",\"destinationId\":\"1690418\",\"landmarkCityDestinationId\":\"11113763\",\"type\":\"LANDMARK\",\"caption\":\"Brussels Expo, Laken, Belgium (<span class='highlighted'>Bruxelles</span> Expo)\",\"redirectPage\":\"DEFAULT_PAGE\",\"latitude\":50.898929,\"longitude\":4.337912,\"name\":\"Brussels Expo\"},{\"geoId\":\"1000000000006099542\",\"destinationId\":\"1675613\",\"landmarkCityDestinationId\":\"63984\",\"type\":\"LANDMARK\",\"caption\":\"Brussels Gate, Mechelen, Belgium (<span class='highlighted'>Bruxelles</span>-porten)\",\"redirectPage\":\"DEFAULT_PAGE\",\"latitude\":51.021919,\"longitude\":4.473797,\"name\":\"Brussels Gate\"},{\"geoId\":\"1000000000006276400\",\"destinationId\":\"1775030\",\"landmarkCityDestinationId\":\"1695549\",\"type\":\"LANDMARK\",\"caption\":\"Brussels Museum of Industry and Labour, Sint-Jans-Molenbeek, Belgium (Muzej industrije i rada La Fonderie - <span class='highlighted'>Bruxelles</span>)\",\"redirectPage\":\"DEFAULT_PAGE\",\"latitude\":50.852399,\"longitude\":4.335922,\"name\":\"Brussels Museum of Industry and Labour\"}]},{\"group\":\"TRANSPORT_GROUP\",\"entities\":[{\"geoId\":\"1000000000006021136\",\"destinationId\":\"1696918\",\"landmarkCityDestinationId\":null,\"type\":\"TRAIN_STATION\",\"caption\":\"<span class='highlighted'>Bruxelles</span>-Midi Station, Brussels, Belgium\",\"redirectPage\":\"DEFAULT_PAGE\",\"latitude\":50.837282,\"longitude\":4.335196,\"name\":\"Bruxelles-Midi Station\"},{\"geoId\":\"1000000000005591618\",\"destinationId\":\"51277\",\"landmarkCityDestinationId\":null,\"type\":\"AIRPORT\",\"caption\":\"Brussels Airport (BRU), Belgium (Zračna luka <span class='highlighted'>Bruxelles</span> (BRU))\",\"redirectPage\":\"DEFAULT_PAGE\",\"latitude\":50.89654,\"longitude\":4.48405,\"name\":\"Brussels Airport (BRU)\"},{\"geoId\":\"1000000000006021138\",\"destinationId\":\"1696919\",\"landmarkCityDestinationId\":null,\"type\":\"TRAIN_STATION\",\"caption\":\"<span class='highlighted'>Bruxelles</span>-Nord Station, Schaerbeek, Belgium\",\"redirectPage\":\"DEFAULT_PAGE\",\"latitude\":50.860187,\"longitude\":4.362422,\"name\":\"Bruxelles-Nord Station\"}]},{\"group\":\"HOTEL_GROUP\",\"entities\":[{\"geoId\":\"1100000000000421076\",\"destinationId\":\"421076\",\"landmarkCityDestinationId\":null,\"type\":\"HOTEL\",\"caption\":\"MEININGER Hotels <span class='highlighted'>Bruxelles</span> City Center, Brussels, Belgium\",\"redirectPage\":\"DEFAULT_PAGE\",\"latitude\":50.851563,\"longitude\":4.339202,\"name\":\"MEININGER Hotels Bruxelles City Center\"},{\"geoId\":\"1100000000797834016\",\"destinationId\":\"797834016\",\"landmarkCityDestinationId\":null,\"type\":\"HOTEL\",\"caption\":\"Appart'City Confort <span class='highlighted'>Bruxelles</span> Centre Gare du Midi, Brussels, Belgium\",\"redirectPage\":\"DEFAULT_PAGE\",\"latitude\":50.83818,\"longitude\":4.33154,\"name\":\"Appart'City Confort Bruxelles Centre Gare du Midi\"},{\"geoId\":\"1100000001216946368\",\"destinationId\":\"1216946368\",\"landmarkCityDestinationId\":null,\"type\":\"HOTEL\",\"caption\":\"MEININGER Hotel <span class='highlighted'>Bruxelles</span> Gare du Midi, Brussels, Belgium\",\"redirectPage\":\"DEFAULT_PAGE\",\"latitude\":50.835768,\"longitude\":4.33119,\"name\":\"MEININGER Hotel Bruxelles Gare du Midi\"}]}]} \n"
     ]
    }
   ],
   "source": [
    "locations(10)"
   ]
  },
  {
   "cell_type": "code",
   "execution_count": null,
   "metadata": {},
   "outputs": [],
   "source": []
  }
 ]
}