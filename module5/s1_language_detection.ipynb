{
 "metadata": {
  "language_info": {
   "codemirror_mode": {
    "name": "ipython",
    "version": 3
   },
   "file_extension": ".py",
   "mimetype": "text/x-python",
   "name": "python",
   "nbconvert_exporter": "python",
   "pygments_lexer": "ipython3",
   "version": "3.8.6-final"
  },
  "orig_nbformat": 2,
  "kernelspec": {
   "name": "python3",
   "display_name": "Python 3.8.6 64-bit",
   "metadata": {
    "interpreter": {
     "hash": "99c2798fddc8ab331820d6d51255fa2b50880962d32a1f192cdb341488373fd1"
    }
   }
  }
 },
 "nbformat": 4,
 "nbformat_minor": 2,
 "cells": [
  {
   "source": [
    "## Detect languages used in bulletins"
   ],
   "cell_type": "markdown",
   "metadata": {}
  },
  {
   "cell_type": "code",
   "execution_count": 2,
   "metadata": {},
   "outputs": [],
   "source": [
    "\n",
    "import os\n",
    "from collections import defaultdict\n",
    "\n",
    "import langid\n",
    "import pycountry"
   ]
  },
  {
   "source": [
    "Le code ci-dessous permet de forcer l'algorithme à choisir entre le français ou le néerlandais\n"
   ],
   "cell_type": "markdown",
   "metadata": {}
  },
  {
   "cell_type": "code",
   "execution_count": null,
   "metadata": {},
   "outputs": [],
   "source": [
    "langid.set_languages(['fr', 'nl'])"
   ]
  },
  {
   "source": [
    "Nous listons tous les fichiers .txt dans le corpus\n",
    "\n"
   ],
   "cell_type": "markdown",
   "metadata": {}
  },
  {
   "cell_type": "code",
   "execution_count": 3,
   "metadata": {},
   "outputs": [
    {
     "output_type": "stream",
     "name": "stdout",
     "text": [
      "Number of articles: 18846\n"
     ]
    }
   ],
   "source": [
    "root = \"../data/txt/\"\n",
    "txts = os.listdir(root)\n",
    "print(f\"{len(txts)} TXT files found\")"
   ]
  },
  {
   "source": [
    "Nous allons lire chaque fichier, détecter la langue, et incrémenter lang_dictlorsqu'une langue est détectée.\n",
    "\n",
    "Important : pour détecter les langues sur tous les documents, mettez limit = None ci-dessous."
   ],
   "cell_type": "markdown",
   "metadata": {}
  },
  {
   "source": [
    "limit = 500\n",
    "# limit = None"
   ],
   "cell_type": "code",
   "metadata": {},
   "execution_count": null,
   "outputs": []
  },
  {
   "cell_type": "code",
   "execution_count": 5,
   "metadata": {},
   "outputs": [
    {
     "output_type": "stream",
     "name": "stdout",
     "text": [
      "['alt.atheism',\n 'comp.graphics',\n 'comp.os.ms-windows.misc',\n 'comp.sys.ibm.pc.hardware',\n 'comp.sys.mac.hardware',\n 'comp.windows.x',\n 'misc.forsale',\n 'rec.autos',\n 'rec.motorcycles',\n 'rec.sport.baseball',\n 'rec.sport.hockey',\n 'sci.crypt',\n 'sci.electronics',\n 'sci.med',\n 'sci.space',\n 'soc.religion.christian',\n 'talk.politics.guns',\n 'talk.politics.mideast',\n 'talk.politics.misc',\n 'talk.religion.misc']\n"
     ]
    }
   ],
   "source": [
    "lang_dict = defaultdict(int)\n",
    "txts = txts[:limit] if limit else texts"
   ]
  },
  {
   "cell_type": "code",
   "execution_count": 6,
   "metadata": {},
   "outputs": [
    {
     "output_type": "stream",
     "name": "stdout",
     "text": [
      "===== rec.sport.hockey =====\nFrom: Mamatha Devineni Ratnam <mr47+@andrew.cmu.edu> Subject: Pens fans reactions Organization: Post Office, Carnegie Mellon, Pittsburgh, PA Lines: 12 NNTP-Posting-Host: po4.andrew.cmu.edu    I am sure some bashers of Pens fans are pretty confused about the lack of any kind of posts about the recent Pens massacre of the Devils. Actually, I am  bit puzzled too and a bit relieved. However, I am going to put an end to non-PIttsburghers' relief with a bit of praise for the Pens. Man, they are killing those Devils worse than I thought. Jagr just showed you why he is much better than his regular season stats. He is also a lot fo fun to watch in the playoffs. Bowman should let JAgr have a lot of fun in the next couple of games since the Pens are going to beat the pulp out of Jersey anyway. I was very disappointed not to see the Islanders lose the final regular season game.          PENS RULE!!!   \n\n===== comp.sys.ibm.pc.hardware =====\nFrom: mblawson@midway.ecn.uoknor.edu (Matthew B Lawson) Subject: Which high-performance VLB video card? Summary: Seek recommendations for VLB video card Nntp-Posting-Host: midway.ecn.uoknor.edu Organization: Engineering Computer Network, University of Oklahoma, Norman, OK, USA Keywords: orchid, stealth, vlb Lines: 21    My brother is in the market for a high-performance video card that supports VESA local bus with 1-2MB RAM.  Does anyone have suggestions/ideas on:    - Diamond Stealth Pro Local Bus    - Orchid Farenheit 1280    - ATI Graphics Ultra Pro    - Any other high-performance VLB card   Please post or email.  Thank you!    - Matt  --      |  Matthew B. Lawson <------------> (mblawson@essex.ecn.uoknor.edu)  |      --+-- \"Now I, Nebuchadnezzar, praise and exalt and glorify the King  --+--      |   of heaven, because everything he does is right and all his ways  |        |   are just.\" - Nebuchadnezzar, king of Babylon, 562 B.C.           |     \n\n===== talk.politics.mideast =====\nFrom: hilmi-er@dsv.su.se (Hilmi Eren) Subject: Re: ARMENIA SAYS IT COULD SHOOT DOWN TURKISH PLANES (Henrik) Lines: 95 Nntp-Posting-Host: viktoria.dsv.su.se Reply-To: hilmi-er@dsv.su.se (Hilmi Eren) Organization: Dept. of Computer and Systems Sciences, Stockholm University     |>The student of \"regional killings\" alias Davidian (not the Davidian religios sect) writes:   |>Greater Armenia would stretch from Karabakh, to the Black Sea, to the |>Mediterranean, so if you use the term \"Greater Armenia\" use it with care.   \tFinally you said what you dream about. Mediterranean???? That was new.... \tThe area will be \"greater\" after some years, like your \"holocaust\" numbers......     |>It has always been up to the Azeris to end their announced winning of Karabakh  |>by removing the Armenians! When the president of Azerbaijan, Elchibey, came to  |>power last year, he announced he would be be \"swimming in Lake Sevan [in  |>Armeniaxn] by July\". \t\t***** \tIs't July in USA now????? Here in Sweden it's April and still cold. \tOr have you changed your calendar???   |>Well, he was wrong! If Elchibey is going to shell the  |>Armenians of Karabakh from Aghdam, his people will pay the price! If Elchibey  \t\t\t\t\t\t    **************** |>is going to shell Karabakh from Fizuli his people will pay the price! If  \t\t\t\t\t\t    ****************** |>Elchibey thinks he can get away with bombing Armenia from the hills of  |>Kelbajar, his people will pay the price.  \t\t\t    ***************   \tNOTHING OF THE MENTIONED IS TRUE, BUT LET SAY IT's TRUE. \t \tSHALL THE AZERI WOMEN AND CHILDREN GOING TO PAY THE PRICE WITH \t\t\t\t\t\t    ************** \tBEING RAPED, KILLED AND TORTURED BY THE ARMENIANS?????????? \t \tHAVE YOU HEARDED SOMETHING CALLED: \"GENEVA CONVENTION\"??????? \tYOU FACIST!!!!!    \tOhhh i forgot, this is how Armenians fight, nobody has forgot \tyou killings, rapings and torture against the Kurds and Turks once \tupon a time!                 |>And anyway, this \"60  |>Kurd refugee\" story, as have other stories, are simple fabrications sourced in  |>Baku, modified in Ankara. Other examples of this are Armenia has no border  |>with Iran, and the ridiculous story of the \"intercepting\" of Armenian military  |>conversations as appeared in the New York Times supposedly translated by  |>somebody unknown, from Armenian into Azeri Turkish, submitted by an unnamed  |>\"special correspondent\" to the NY Times from Baku. Real accurate!  Ohhhh so swedish RedCross workers do lie they too? What ever you say \"regional killer\", if you don't like the person then shoot him that's your policy.....l   |>[HE]\tSearch Turkish planes? You don't know what you are talking about.<------- |>[HE]\tsince it's content is announced to be weapons? \t\t\t\ti\t  \t\t\t\t\t\t\t\t\t\ti |>Well, big mouth Ozal said military weapons are being provided to Azerbaijan\ti |>from Turkey, yet Demirel and others say no. No wonder you are so confused!\ti \t\t\t\t\t\t\t\t\t\ti \t\t\t\t\t\t\t\t\t\ti \tConfused?????\t\t\t\t\t\t\t\ti \tYou facist when you delete text don't change it, i wrote:\t\ti \t\t\t\t\t\t\t\t\t\ti         Search Turkish planes? You don't know what you are talking about.\ti         Turkey's government has announced that it's giving weapons  <-----------i         to Azerbadjan since Armenia started to attack Azerbadjan\t\t         it self, not the Karabag province. So why search a plane for weapons\t         since it's content is announced to be weapons?     \tIf there is one that's confused then that's you! We have the right (and we do) \tto give weapons to the Azeris, since Armenians started the fight in Azerbadjan!    |>You are correct, all Turkish planes should be simply shot down! Nice, slow |>moving air transports!  \tShoot down with what? Armenian bread and butter? Or the arms and personel  \tof the Russian army?     Hilmi Eren Stockholm University  \n\n===== comp.sys.ibm.pc.hardware =====\nFrom: guyd@austin.ibm.com (Guy Dawson) Subject: Re: IDE vs SCSI, DMA and detach Originator: guyd@pal500.austin.ibm.com Organization: IBM Austin Lines: 60   In article <1993Apr19.034517.12820@julian.uwo.ca>, wlsmith@valve.heart.rri.uwo.ca (Wayne Smith) writes: > In article <RICHK.93Apr15075248@gozer.grebyn.com> richk@grebyn.com (Richard Krehbiel) writes: > >>     Can anyone explain in fairly simple terms why, if I get OS/2, I might  > >>   need an SCSI controler rather than an IDE.  Will performance suffer that > >>   much?  For a 200MB or so drive?  If I don't have a tape drive or CD-ROM? > >>   Any help would be appreciated. >  > >So, when you've got multi-tasking, you want to increase performance by > >increasing the amount of overlapping you do. > > > >One way is with DMA or bus mastering.  Either of these make it > >possible for I/O devices to move their data into and out of memory > >without interrupting the CPU.  The alternative is for the CPU to move > >the data.  There are several SCSI interface cards that allow DMA and > >bus mastering. >  ^^^^^^^^^^^^ > How do you do bus-mastering on the ISA bus? >  > >IDE, however, is defined by the standard AT interface > >created for the IBM PC AT, which requires the CPU to move all the data > >bytes, with no DMA. >  > If we're talking ISA (AT) bus here, then you can only have 1 DMA channel > active at any one time, presumably transferring data from a single device. > So even though you can have at least 7 devices on a SCSI bus, explain how > all 7 of those devices can to DMA transfers through a single SCSI card > to the ISA-AT bus at the same time.  Think!  It's the SCSI card doing the DMA transfers NOT the disks...  The SCSI card can do DMA transfers containing data from any of the SCSI devices it is attached when it wants to.  An important feature of SCSI is the ability to detach a device. This frees the SCSI bus for other devices. This is typically used in a multi-tasking OS to start transfers on several devices. While each device is seeking the data the bus is free for other commands and data transfers. When the devices are ready to transfer the data they can aquire the bus and send the data.  On an IDE bus when you start a transfer the bus is busy until the disk has seeked the data and transfered it. This is typically a 10-20ms second lock out for other processes wanting the bus irrespective of transfer time.  >  > Also, I'm still trying to track down a copy of IBM's AT reference book, > but from their PC technical manual (page 2-93): >  > \"The (FDD) adapter is buffered on the I.O bus and uses the System Board > direct memory access (DMA) for record data transfers.\" > I expect to see something similar for the PC-AT HDD adapter.   > So the lowly low-density original PC FDD card used DMA and the PC-AT > HDD controller doesn't!?!?  That makes real sense. --  -- ----------------------------------------------------------------------------- Guy Dawson - Hoskyns Group Plc.         guyd@hoskyns.co.uk  Tel Hoskyns UK     -  71 251 2128         guyd@austin.ibm.com Tel IBM Austin USA - 512 838 3377  \n\n===== comp.sys.mac.hardware =====\nFrom: Alexander Samuel McDiarmid <am2o+@andrew.cmu.edu> Subject: driver ?? Organization: Sophomore, Mechanical Engineering, Carnegie Mellon, Pittsburgh, PA Lines: 15 NNTP-Posting-Host: po4.andrew.cmu.edu    1)    I have an old Jasmine drive which I cannot use with my new system.  My understanding is that I have to upsate the driver with a more modern one in order to gain compatability with system 7.0.1.  does anyone know of an inexpensive program to do this?  ( I have seen formatters for <$20 buit have no idea if they will work)   2)     I have another ancient device, this one a tape drive for which the back utility freezes the system if I try to use it.  THe drive is a jasmine direct tape (bought used for $150 w/ 6 tapes, techmar mechanism).  Essentially I have the same question as above, anyone know of an inexpensive beckup utility I can use with system 7.0.1   all help and advice appriciated.   \n\n===== sci.electronics =====\nFrom: tell@cs.unc.edu (Stephen Tell) Subject: Re: subliminal message flashing on TV Organization: The University of North Carolina at Chapel Hill Lines: 25 NNTP-Posting-Host: rukbat.cs.unc.edu  In article <7480237@hpfcso.FC.HP.COM> myers@hpfcso.FC.HP.COM (Bob Myers) writes: >> Hi.  I was doing research on subliminal suggestion for a psychology >> paper, and I read that one researcher flashed hidden messages on the >> TV screen at 1/200ths of a second.  Is that possible?  > Might >even be a vector (\"strokewriter\") display, in which case the lower limit >on image time is anyone's guess (and is probably phosphor-persistence limited).  Back in high school I worked as a lab assistant for a bunch of experimental psychologists at Bell Labs.  When they were doing visual perception and memory experiments, they used vector-type displays, with 1-millisecond refresh rates common.  So your case of 1/200th sec is quite practical, and the experimenters were probably sure that it was 5 milliseconds, not 4 or 6 either.  >Bob Myers  KC0EW >myers@fc.hp.com   Steve --  Steve Tell       tell@cs.unc.edu H: 919 968 1792  | #5L Estes Park apts UNC Chapel Hill Computer Science W: 919 962 1845  | Carrboro NC 27510 Engineering is a _lot_ like art:  Some circuits are like lyric poems, some are like army manuals, and some are like The Hitchhiker's Guide to the Galaxy..  \n\n===== comp.sys.mac.hardware =====\nFrom: lpa8921@tamuts.tamu.edu (Louis Paul Adams) Subject: Re: Number for Applied Engineering Organization: Texas A&M University, College Station Lines: 9 NNTP-Posting-Host: tamuts.tamu.edu  >Anyone have a phone number for Applied Engineering so I can give them >a call?   AE is in Dallas...try 214/241-6060 or 214/241-0055.  Tech support may be on their own line, but one of these should get you started.  Good luck!   \n\n===== rec.sport.hockey =====\nFrom: dchhabra@stpl.ists.ca (Deepak Chhabra) Subject: Re: Atlanta Hockey Hell!! Nntp-Posting-Host: stpl.ists.ca Organization: Solar Terresterial Physics Laboratory, ISTS Lines: 24  In article <0foVj7i00WB4MIUmht@andrew.cmu.edu> Mamatha Devineni Ratnam <mr47+@andrew.cmu.edu> writes: > >Well, it's not that bad. But I am still pretty pissed of at the >local ABC coverage. They cut off the first half hour of coverage by playing  [stuff deleted]  Ok, here's the solution to your problem.  Move to Canada.  Yesterday I was able to watch FOUR games...the NJ-PITT at 1:00 on ABC, LA-CAL at 3:00 (CBC),  BUFF-BOS at 7:00 (TSN and FOX), and MON-QUE at 7:30 (CBC).  I think that if each series goes its max I could be watching hockey playoffs for 40-some odd consecutive nights (I haven't counted so that's a pure guess).  I have two tv's in my house, and I set them up side-by-side to watch MON-QUE and keep an eye on BOS-BUFF at the same time.  I did the same for the two afternoon games.  Btw, those ABC commentaters were great!  I was quite impressed; they seemed to know that their audience wasn't likely to be well-schooled in hockey lore and they did an excellent job.  They were quite impartial also, IMO.    dchhabra@stpl.ists.ca (not suffering from a shortage of hockey here)  \n\n===== rec.sport.hockey =====\nFrom: dchhabra@stpl.ists.ca (Deepak Chhabra) Subject: Re: Goalie masks Nntp-Posting-Host: stpl.ists.ca Organization: Solar Terresterial Physics Laboratory, ISTS Lines: 15  In article <C5sqz3.EG8@acsu.buffalo.edu> hammerl@acsu.buffalo.edu (Valerie S. Hammerl) writes:  >>[...] and I'll give Fuhr's new one an honourable mention, although I haven't >>seen it closely yet (it looked good from a distance!).    >This is the new Buffalo one, the second since he's been with the >Sabres?  I recall a price tag of over $700 just for the paint job on >that mask, and a total price of almost $1500.  Ouch.    Yeah, it's the second one.  And I believe that price too.  I've been trying to get a good look at it on the Bruin-Sabre telecasts, and wow! does it ever look good.  Whoever did that paint job knew what they were doing.  And given Fuhr's play since he got it, I bet the Bruins are wishing he didn't have it:)  --  \n\n===== talk.religion.misc =====\nFrom: arromdee@jyusenkyou.cs.jhu.edu (Ken Arromdee) Subject: Re: Christians above the Law? was Clarification of pe Organization: Johns Hopkins University CS Dept. Lines: 13  In article <C61Kow.E4z@mailer.cc.fsu.edu> dlecoint@garnet.acns.fsu.edu (Darius_Lecointe) writes: >>Jesus was a JEW, not a Christian.  If a Christian means someone who believes in the divinity of Jesus, it is safe to say that Jesus was a Christian. -- \"On the first day after Christmas my truelove served to me...  Leftover Turkey! On the second day after Christmas my truelove served to me...  Turkey Casserole     that she made from Leftover Turkey. [days 3-4 deleted] ...  Flaming Turkey Wings! ...    -- Pizza Hut commercial (and M*tlu/A*gic bait)  Ken Arromdee (arromdee@jyusenkyou.cs.jhu.edu)  \n\n"
     ]
    }
   ],
   "source": [
    "for i, txt in enumerate(sorted(txts)):\n",
    "    if i % 50 == 0:\n",
    "        print(f'{i} document(s) processed...')\n",
    "    text = open(os.path.join(root, txt)).read()\n",
    "    text_length = len(text)\n",
    "    if text_length > 20:\n",
    "        lang, conf = langid.classify(text)\n",
    "        lang_dict[lang] += 1\n",
    "    else:\n",
    "        print(f\"{txt} contains only {text_length} characters, treating as unknown\")\n",
    "        lang_dict['n/a'] += 1"
   ]
  },
  {
   "source": [
    "Nous allons trier les langues de la plus fréquente à la plus rare."
   ],
   "cell_type": "markdown",
   "metadata": {}
  },
  {
   "source": [
    "sorted_lang = sorted(lang_dict.items(), key=lambda kv: kv[1], reverse=True)"
   ],
   "cell_type": "code",
   "metadata": {},
   "execution_count": null,
   "outputs": []
  },
  {
   "source": [
    "Et nous imprimons les résultats...\n",
    "\n"
   ],
   "cell_type": "markdown",
   "metadata": {}
  },
  {
   "source": [
    "\n",
    "for lang_code, nb_docs in sorted_lang:\n",
    "    language = pycountry.languages.get(alpha_2=lang_code)\n",
    "    try:\n",
    "        lang_name = language.name\n",
    "    except AttributeError:\n",
    "        lang_name = language\n",
    "    print(f\"{lang_name}\\t{nb_docs}\")"
   ],
   "cell_type": "code",
   "metadata": {},
   "execution_count": null,
   "outputs": []
  }
 ]
}