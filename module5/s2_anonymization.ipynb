{
 "metadata": {
  "language_info": {
   "codemirror_mode": {
    "name": "ipython",
    "version": 3
   },
   "file_extension": ".py",
   "mimetype": "text/x-python",
   "name": "python",
   "nbconvert_exporter": "python",
   "pygments_lexer": "ipython3",
   "version": "3.8.6-final"
  },
  "orig_nbformat": 2,
  "kernelspec": {
   "name": "python3",
   "display_name": "Python 3.8.6 64-bit",
   "metadata": {
    "interpreter": {
     "hash": "99c2798fddc8ab331820d6d51255fa2b50880962d32a1f192cdb341488373fd1"
    }
   }
  }
 },
 "nbformat": 4,
 "nbformat_minor": 2,
 "cells": [
  {
   "cell_type": "code",
   "execution_count": 1,
   "metadata": {},
   "outputs": [],
   "source": [
    "import collections\n",
    "import os\n",
    "import string\n",
    "import sys\n",
    "\n",
    "import pandas as pd\n",
    "from nltk import word_tokenize\n",
    "from nltk.corpus import stopwords\n",
    "from pprint import pprint\n",
    "from sklearn.cluster import KMeans\n",
    "from sklearn.feature_extraction.text import TfidfVectorizer"
   ]
  },
  {
   "cell_type": "code",
   "execution_count": 2,
   "metadata": {},
   "outputs": [
    {
     "output_type": "stream",
     "name": "stderr",
     "text": [
      "[nltk_data] Downloading package punkt to\n[nltk_data]     C:\\Users\\sarah\\AppData\\Roaming\\nltk_data...\n[nltk_data]   Package punkt is already up-to-date!\n"
     ]
    },
    {
     "output_type": "execute_result",
     "data": {
      "text/plain": [
       "True"
      ]
     },
     "metadata": {},
     "execution_count": 2
    }
   ],
   "source": [
    "import nltk\n",
    "\n",
    "nltk.download('punkt')"
   ]
  },
  {
   "cell_type": "code",
   "execution_count": 3,
   "metadata": {},
   "outputs": [],
   "source": [
    "data_path = \"../data/txt/\""
   ]
  },
  {
   "source": [
    "## Choix d'une décennie et du nombre de clusters"
   ],
   "cell_type": "markdown",
   "metadata": {}
  },
  {
   "cell_type": "code",
   "execution_count": 4,
   "metadata": {},
   "outputs": [],
   "source": [
    "DECADE = '1950'\n",
    "N_CLUSTERS = 5"
   ]
  },
  {
   "source": [
    "## Chargement des fichiers de la décennie\n",
    "\n"
   ],
   "cell_type": "markdown",
   "metadata": {}
  },
  {
   "cell_type": "code",
   "execution_count": 5,
   "metadata": {},
   "outputs": [],
   "source": [
    "files = [f for f in sorted(os.listdir(data_path)) if f\"_{DECADE[:-1]}\" in f]"
   ]
  },
  {
   "cell_type": "code",
   "execution_count": 7,
   "metadata": {},
   "outputs": [
    {
     "output_type": "execute_result",
     "data": {
      "text/plain": [
       "['Bxl_1950_Tome_III_Part_1.txt',\n",
       " 'Bxl_1950_Tome_III_Part_2.txt',\n",
       " 'Bxl_1950_Tome_III_Part_3.txt',\n",
       " 'Bxl_1950_Tome_III_Part_4.txt',\n",
       " 'Bxl_1950_Tome_III_Part_5.txt']"
      ]
     },
     "metadata": {},
     "execution_count": 7
    }
   ],
   "source": [
    "# Exemple de fichiers\n",
    "files[:5]"
   ]
  },
  {
   "cell_type": "code",
   "execution_count": 8,
   "metadata": {},
   "outputs": [],
   "source": [
    "texts = [open(data_path + f, encoding='utf-8').read() for f in files]"
   ]
  },
  {
   "cell_type": "code",
   "execution_count": 9,
   "metadata": {},
   "outputs": [
    {
     "output_type": "execute_result",
     "data": {
      "text/plain": [
       "'C O M P T E R E N D U D E L A SÉANCE D U 1 6 OCTOBRE 1 9 5 0 .\\n\\nVILLE\\n\\nDE BRUXELLES\\n\\nBULLETIN COMMUNAL\\nAnnée 1950\\nCONSEIL\\nSéance\\n\\nCOMMUNAL\\n\\ndu 16 octobre\\n\\n1950.\\n\\nP r é s i d e n c e de M . J . V A N D E M E U L E B R O E C K ,\\nBourgmestre.\\n\\nPAGES\\n\\nSOMMAIRE\\n1.\\n\\nCommunications\\n\\n2.\\n\\nD é c è s de M . F r a n ç o i s\\ncommunal\\n\\n3.\\n4.\\n\\n,\\nDe Ceuster, ancien\\n\\n904\\n\\nconseiller\\n905\\n\\nR è g l e m e n t de polic'"
      ]
     },
     "metadata": {},
     "execution_count": 9
    }
   ],
   "source": [
    "# Exemple de textes\n",
    "texts[0][:400]"
   ]
  },
  {
   "source": [
    "## Vectorisation du texte¶\n"
   ],
   "cell_type": "markdown",
   "metadata": {}
  },
  {
   "cell_type": "code",
   "execution_count": 10,
   "metadata": {},
   "outputs": [],
   "source": [
    "def process_text(text, stem=True):\n",
    "    \"\"\" Tokenize text and remove punctuation \"\"\"\n",
    "    text = text.translate(string.punctuation)\n",
    "    tokens = word_tokenize(text)\n",
    "    return tokens"
   ]
  },
  {
   "cell_type": "code",
   "execution_count": 11,
   "metadata": {},
   "outputs": [],
   "source": [
    "vectorizer = TfidfVectorizer(tokenizer=process_text,\n",
    "                                stop_words=stopwords.words('french'),\n",
    "                                max_df=0.5,\n",
    "                                min_df=0.1,\n",
    "                                lowercase=True)"
   ]
  },
  {
   "cell_type": "code",
   "execution_count": 14,
   "metadata": {},
   "outputs": [
    {
     "output_type": "stream",
     "name": "stdout",
     "text": [
      "Wall time: 1min 10s\n"
     ]
    }
   ],
   "source": [
    "%time tfidf_vectors = vectorizer.fit_transform(texts)"
   ]
  },
  {
   "cell_type": "code",
   "execution_count": 15,
   "metadata": {},
   "outputs": [
    {
     "output_type": "execute_result",
     "data": {
      "text/plain": [
       "<312x6355 sparse matrix of type '<class 'numpy.float64'>'\n",
       "\twith 425544 stored elements in Compressed Sparse Row format>"
      ]
     },
     "metadata": {},
     "execution_count": 15
    }
   ],
   "source": [
    "tfidf_vectors"
   ]
  },
  {
   "cell_type": "code",
   "execution_count": 16,
   "metadata": {},
   "outputs": [
    {
     "output_type": "execute_result",
     "data": {
      "text/plain": [
       "colportage    0.288932\n",
       "op            0.246078\n",
       "frs           0.237571\n",
       "of            0.222885\n",
       "thonet        0.184822\n",
       "                ...   \n",
       "majorer       0.000000\n",
       "majoré        0.000000\n",
       "malade        0.000000\n",
       "malades       0.000000\n",
       "il+s'agit     0.000000\n",
       "Length: 6355, dtype: float64"
      ]
     },
     "metadata": {},
     "execution_count": 16
    }
   ],
   "source": [
    "# Exemple de vecteur TFIDF\n",
    "pd.Series(\n",
    "    tfidf_vectors[0].toarray()[0],\n",
    "    index=vectorizer.get_feature_names()\n",
    "    ).sort_values(ascending=False)"
   ]
  },
  {
   "source": [
    "## Comprendre les vecteurs et leurs \"distances\"\n"
   ],
   "cell_type": "markdown",
   "metadata": {}
  },
  {
   "cell_type": "code",
   "execution_count": 17,
   "metadata": {},
   "outputs": [],
   "source": [
    "from scipy.spatial.distance import cosine"
   ]
  },
  {
   "cell_type": "code",
   "execution_count": 18,
   "metadata": {},
   "outputs": [
    {
     "output_type": "execute_result",
     "data": {
      "text/plain": [
       "0.0"
      ]
     },
     "metadata": {},
     "execution_count": 18
    }
   ],
   "source": [
    "cosine([1, 2, 3], [1, 2, 3])"
   ]
  },
  {
   "cell_type": "code",
   "execution_count": 19,
   "metadata": {},
   "outputs": [
    {
     "output_type": "execute_result",
     "data": {
      "text/plain": [
       "0.02004211298777725"
      ]
     },
     "metadata": {},
     "execution_count": 19
    }
   ],
   "source": [
    "cosine([1, 2, 3], [1, 2, 2])"
   ]
  },
  {
   "cell_type": "code",
   "execution_count": 20,
   "metadata": {},
   "outputs": [
    {
     "output_type": "execute_result",
     "data": {
      "text/plain": [
       "0.07417990022744858"
      ]
     },
     "metadata": {},
     "execution_count": 20
    }
   ],
   "source": [
    "cosine([1, 2, 3], [2, 2, 2])"
   ]
  },
  {
   "cell_type": "code",
   "execution_count": 21,
   "metadata": {},
   "outputs": [],
   "source": [
    "tfidf_array = tfidf_vectors.toarray()"
   ]
  },
  {
   "cell_type": "code",
   "execution_count": 22,
   "metadata": {},
   "outputs": [
    {
     "output_type": "execute_result",
     "data": {
      "text/plain": [
       "array([0.00739289, 0.03186491, 0.0047495 , ..., 0.        , 0.        ,\n",
       "       0.        ])"
      ]
     },
     "metadata": {},
     "execution_count": 22
    }
   ],
   "source": [
    "tfidf_array[0]"
   ]
  },
  {
   "cell_type": "code",
   "execution_count": 23,
   "metadata": {},
   "outputs": [
    {
     "output_type": "execute_result",
     "data": {
      "text/plain": [
       "'C O M P T E R E N D U D E L A SÉANCE D U 1 6 OCTOBRE 1 9 5 0 .\\n\\nVILLE\\n\\nDE BRUXELLES\\n\\nBULLETIN COMMUNAL\\nAnnée 1950\\nCONSEIL\\nSéance\\n\\nCOMMUNAL\\n\\ndu 16 octobre\\n\\n1950.\\n\\nP r é s i d e n c e de M . J . V A N D'"
      ]
     },
     "metadata": {},
     "execution_count": 23
    }
   ],
   "source": [
    "texts[0][:200]"
   ]
  },
  {
   "cell_type": "code",
   "execution_count": 24,
   "metadata": {},
   "outputs": [
    {
     "output_type": "execute_result",
     "data": {
      "text/plain": [
       "0.7886070589754197"
      ]
     },
     "metadata": {},
     "execution_count": 24
    }
   ],
   "source": [
    "cosine(tfidf_array[0], tfidf_array[1])"
   ]
  },
  {
   "source": [
    "## Clustering des vecteurs TFIDF\n",
    "Article intéressant sur le KMeans clustering :\n",
    "\n",
    "https://medium.com/dataseries/k-means-clustering-explained-visually-in-5-minutes-b900cc69d175"
   ],
   "cell_type": "markdown",
   "metadata": {}
  },
  {
   "cell_type": "code",
   "execution_count": 25,
   "metadata": {},
   "outputs": [],
   "source": [
    "km_model = KMeans(n_clusters=N_CLUSTERS)\n"
   ]
  },
  {
   "cell_type": "code",
   "execution_count": 26,
   "metadata": {},
   "outputs": [
    {
     "output_type": "execute_result",
     "data": {
      "text/plain": [
       "KMeans(n_clusters=5)"
      ]
     },
     "metadata": {},
     "execution_count": 26
    }
   ],
   "source": [
    "km_model.fit(tfidf_vectors)\n"
   ]
  },
  {
   "cell_type": "code",
   "execution_count": 27,
   "metadata": {},
   "outputs": [],
   "source": [
    "clustering = collections.defaultdict(list)\n",
    "\n",
    "for idx, label in enumerate(km_model.labels_):\n",
    "    clustering[label].append(files[idx])"
   ]
  },
  {
   "cell_type": "code",
   "execution_count": 29,
   "metadata": {},
   "outputs": [
    {
     "output_type": "stream",
     "name": "stdout",
     "text": [
      "{0: ['Bxl_1950_Tome_II_Part_10.txt',\n     'Bxl_1950_Tome_II_Part_4.txt',\n     'Bxl_1950_Tome_II_Part_5.txt',\n     'Bxl_1950_Tome_II_Part_6.txt',\n     'Bxl_1950_Tome_II_Part_9.txt',\n     'Bxl_1951_Tome_II_Part_11.txt',\n     'Bxl_1951_Tome_II_Part_3.txt',\n     'Bxl_1951_Tome_II_Part_4.txt',\n     'Bxl_1951_Tome_II_Part_5.txt',\n     'Bxl_1951_Tome_II_Part_6.txt',\n     'Bxl_1951_Tome_II_Part_9.txt',\n     'Bxl_1952_Tome_II_Part_10.txt',\n     'Bxl_1952_Tome_II_Part_4.txt',\n     'Bxl_1952_Tome_II_Part_5.txt',\n     'Bxl_1952_Tome_II_Part_6.txt',\n     'Bxl_1952_Tome_II_Part_9.txt',\n     'Bxl_1952_Tome_I_Part_9.txt',\n     'Bxl_1953_Tome_II_Part_4.txt',\n     'Bxl_1953_Tome_II_Part_5.txt',\n     'Bxl_1953_Tome_II_Part_9.txt',\n     'Bxl_1953_Tome_I_Part_5.txt',\n     'Bxl_1954_Tome_II_Part_10.txt',\n     'Bxl_1954_Tome_II_Part_4.txt',\n     'Bxl_1954_Tome_II_Part_5.txt',\n     'Bxl_1954_Tome_II_Part_6.txt',\n     'Bxl_1955_Tome_II1_Part_11.txt',\n     'Bxl_1955_Tome_II1_Part_12.txt',\n     'Bxl_1955_Tome_II1_Part_5.txt',\n     'Bxl_1955_Tome_II1_Part_6.txt',\n     'Bxl_1955_Tome_II1_Part_7.txt',\n     'Bxl_1956_Tome_II1_Part_12.txt',\n     'Bxl_1956_Tome_II1_Part_13.txt',\n     'Bxl_1956_Tome_II1_Part_6.txt',\n     'Bxl_1956_Tome_II1_Part_7.txt',\n     'Bxl_1956_Tome_II1_Part_8.txt',\n     'Bxl_1957_Tome_II1_Part_12.txt',\n     'Bxl_1957_Tome_II1_Part_13.txt',\n     'Bxl_1957_Tome_II1_Part_5.txt',\n     'Bxl_1957_Tome_II1_Part_6.txt',\n     'Bxl_1957_Tome_II1_Part_7.txt',\n     'Bxl_1957_Tome_II1_Part_8.txt',\n     'Bxl_1957_Tome_II2_Part_10.txt',\n     'Bxl_1957_Tome_I_Part_12.txt',\n     'Bxl_1958_Tome_I_Part_5.txt',\n     'Bxl_1958_Tome_RptAn_Part_1.txt',\n     'Bxl_1958_Tome_RptAn_Part_10.txt',\n     'Bxl_1958_Tome_RptAn_Part_2.txt',\n     'Bxl_1958_Tome_RptAn_Part_3.txt',\n     'Bxl_1958_Tome_RptAn_Part_8.txt',\n     'Bxl_1958_Tome_RptAn_Part_9.txt',\n     'Bxl_1959_Tome_RptAn_Part_1.txt',\n     'Bxl_1959_Tome_RptAn_Part_10.txt',\n     'Bxl_1959_Tome_RptAn_Part_3.txt',\n     'Bxl_1959_Tome_RptAn_Part_9.txt'],\n 1: ['Bxl_1952_Tome_II_Part_2.txt',\n     'Bxl_1953_Tome_III_Part_2.txt',\n     'Bxl_1953_Tome_II_Part_2.txt',\n     'Bxl_1954_Tome_III_Part_4.txt',\n     'Bxl_1954_Tome_I_Part_1.txt',\n     'Bxl_1955_Tome_II1_Part_1.txt',\n     'Bxl_1955_Tome_II1_Part_2.txt',\n     'Bxl_1955_Tome_II1_Part_4.txt',\n     'Bxl_1955_Tome_II2_Part_1.txt',\n     'Bxl_1955_Tome_I_Part_8.txt',\n     'Bxl_1956_Tome_II1_Part_2.txt',\n     'Bxl_1956_Tome_II1_Part_4.txt',\n     'Bxl_1956_Tome_II1_Part_5.txt',\n     'Bxl_1956_Tome_II2_Part_4.txt',\n     'Bxl_1956_Tome_II2_Part_6.txt',\n     'Bxl_1956_Tome_I_Part_1.txt',\n     'Bxl_1956_Tome_I_Part_11.txt',\n     'Bxl_1956_Tome_I_Part_6.txt',\n     'Bxl_1956_Tome_I_Part_8.txt',\n     'Bxl_1956_Tome_I_Part_9.txt',\n     'Bxl_1957_Tome_II1_Part_1.txt',\n     'Bxl_1957_Tome_II1_Part_2.txt',\n     'Bxl_1957_Tome_II1_Part_3.txt',\n     'Bxl_1957_Tome_II1_Part_4.txt',\n     'Bxl_1957_Tome_II2_Part_1.txt',\n     'Bxl_1957_Tome_II2_Part_3.txt',\n     'Bxl_1957_Tome_II2_Part_7.txt',\n     'Bxl_1957_Tome_I_Part_1.txt',\n     'Bxl_1957_Tome_I_Part_10.txt',\n     'Bxl_1957_Tome_I_Part_2.txt',\n     'Bxl_1957_Tome_I_Part_4.txt',\n     'Bxl_1957_Tome_I_Part_7.txt',\n     'Bxl_1957_Tome_I_Part_8.txt',\n     'Bxl_1957_Tome_I_Part_9.txt',\n     'Bxl_1958_Tome_II_Part_11.txt',\n     'Bxl_1958_Tome_II_Part_13.txt',\n     'Bxl_1958_Tome_II_Part_2.txt',\n     'Bxl_1958_Tome_II_Part_4.txt',\n     'Bxl_1958_Tome_II_Part_5.txt',\n     'Bxl_1958_Tome_II_Part_6.txt',\n     'Bxl_1958_Tome_II_Part_7.txt',\n     'Bxl_1958_Tome_I_Part_1.txt',\n     'Bxl_1958_Tome_I_Part_10.txt',\n     'Bxl_1958_Tome_I_Part_2.txt',\n     'Bxl_1958_Tome_I_Part_3.txt',\n     'Bxl_1958_Tome_I_Part_4.txt',\n     'Bxl_1958_Tome_I_Part_6.txt',\n     'Bxl_1958_Tome_I_Part_7.txt',\n     'Bxl_1958_Tome_I_Part_8.txt',\n     'Bxl_1958_Tome_I_Part_9.txt',\n     'Bxl_1959_Tome_II1_Part_1.txt',\n     'Bxl_1959_Tome_II1_Part_2.txt',\n     'Bxl_1959_Tome_II1_Part_3.txt',\n     'Bxl_1959_Tome_II1_Part_4.txt',\n     'Bxl_1959_Tome_II1_Part_5.txt',\n     'Bxl_1959_Tome_II1_Part_6.txt',\n     'Bxl_1959_Tome_II1_Part_8.txt',\n     'Bxl_1959_Tome_II2_Part_1.txt',\n     'Bxl_1959_Tome_II2_Part_7.txt',\n     'Bxl_1959_Tome_I_Part_1.txt',\n     'Bxl_1959_Tome_I_Part_10.txt',\n     'Bxl_1959_Tome_I_Part_2.txt',\n     'Bxl_1959_Tome_I_Part_3.txt',\n     'Bxl_1959_Tome_I_Part_4.txt',\n     'Bxl_1959_Tome_I_Part_6.txt',\n     'Bxl_1959_Tome_I_Part_7.txt',\n     'Bxl_1959_Tome_I_Part_8.txt',\n     'Bxl_1959_Tome_I_Part_9.txt'],\n 2: ['Bxl_1950_Tome_III_Part_1.txt',\n     'Bxl_1950_Tome_III_Part_2.txt',\n     'Bxl_1950_Tome_III_Part_3.txt',\n     'Bxl_1950_Tome_III_Part_4.txt',\n     'Bxl_1950_Tome_III_Part_5.txt',\n     'Bxl_1950_Tome_II_Part_1.txt',\n     'Bxl_1950_Tome_II_Part_2.txt',\n     'Bxl_1950_Tome_II_Part_3.txt',\n     'Bxl_1950_Tome_I_Part_1.txt',\n     'Bxl_1950_Tome_I_Part_2.txt',\n     'Bxl_1950_Tome_I_Part_3.txt',\n     'Bxl_1950_Tome_I_Part_4.txt',\n     'Bxl_1950_Tome_I_Part_5.txt',\n     'Bxl_1950_Tome_I_Part_6.txt',\n     'Bxl_1951_Tome_II_Part_1.txt',\n     'Bxl_1951_Tome_II_Part_10.txt',\n     'Bxl_1951_Tome_II_Part_12.txt',\n     'Bxl_1951_Tome_II_Part_13.txt',\n     'Bxl_1951_Tome_II_Part_14.txt',\n     'Bxl_1951_Tome_II_Part_15.txt',\n     'Bxl_1951_Tome_II_Part_16.txt',\n     'Bxl_1951_Tome_II_Part_2.txt',\n     'Bxl_1951_Tome_I_Part_1.txt',\n     'Bxl_1951_Tome_I_Part_2.txt',\n     'Bxl_1951_Tome_I_Part_3.txt',\n     'Bxl_1951_Tome_I_Part_4.txt',\n     'Bxl_1951_Tome_I_Part_5.txt',\n     'Bxl_1952_Tome_III_Part_1.txt',\n     'Bxl_1952_Tome_III_Part_2.txt',\n     'Bxl_1952_Tome_III_Part_3.txt',\n     'Bxl_1952_Tome_III_Part_4.txt',\n     'Bxl_1952_Tome_II_Part_1.txt',\n     'Bxl_1952_Tome_II_Part_3.txt',\n     'Bxl_1952_Tome_I_Part_1.txt',\n     'Bxl_1952_Tome_I_Part_2.txt',\n     'Bxl_1952_Tome_I_Part_3.txt',\n     'Bxl_1952_Tome_I_Part_4.txt',\n     'Bxl_1952_Tome_I_Part_5.txt',\n     'Bxl_1952_Tome_I_Part_6.txt',\n     'Bxl_1952_Tome_I_Part_7.txt',\n     'Bxl_1953_Tome_III_Part_1.txt',\n     'Bxl_1953_Tome_III_Part_3.txt',\n     'Bxl_1953_Tome_III_Part_4.txt',\n     'Bxl_1953_Tome_III_Part_5.txt',\n     'Bxl_1953_Tome_III_Part_6.txt',\n     'Bxl_1953_Tome_III_Part_7.txt',\n     'Bxl_1953_Tome_II_Part_1.txt',\n     'Bxl_1953_Tome_II_Part_3.txt',\n     'Bxl_1953_Tome_I_Part_1.txt',\n     'Bxl_1953_Tome_I_Part_10.txt',\n     'Bxl_1953_Tome_I_Part_11.txt',\n     'Bxl_1953_Tome_I_Part_12.txt',\n     'Bxl_1953_Tome_I_Part_2.txt',\n     'Bxl_1953_Tome_I_Part_4.txt',\n     'Bxl_1953_Tome_I_Part_6.txt',\n     'Bxl_1953_Tome_I_Part_7.txt',\n     'Bxl_1953_Tome_I_Part_8.txt',\n     'Bxl_1953_Tome_I_Part_9.txt',\n     'Bxl_1954_Tome_III_Part_1.txt',\n     'Bxl_1954_Tome_III_Part_2.txt',\n     'Bxl_1954_Tome_III_Part_3.txt',\n     'Bxl_1954_Tome_III_Part_5.txt',\n     'Bxl_1954_Tome_III_Part_6.txt',\n     'Bxl_1954_Tome_III_Part_7.txt',\n     'Bxl_1954_Tome_II_Part_1.txt',\n     'Bxl_1954_Tome_II_Part_2.txt',\n     'Bxl_1954_Tome_II_Part_3.txt',\n     'Bxl_1954_Tome_I_Part_2.txt',\n     'Bxl_1954_Tome_I_Part_3.txt',\n     'Bxl_1954_Tome_I_Part_4.txt',\n     'Bxl_1954_Tome_I_Part_5.txt',\n     'Bxl_1954_Tome_I_Part_6.txt',\n     'Bxl_1954_Tome_I_Part_7.txt',\n     'Bxl_1954_Tome_I_Part_8.txt',\n     'Bxl_1954_Tome_I_Part_9.txt',\n     'Bxl_1955_Tome_II1_Part_3.txt',\n     'Bxl_1955_Tome_II2_Part_2.txt',\n     'Bxl_1955_Tome_II2_Part_3.txt',\n     'Bxl_1955_Tome_II2_Part_4.txt',\n     'Bxl_1955_Tome_II2_Part_5.txt',\n     'Bxl_1955_Tome_II2_Part_6.txt',\n     'Bxl_1955_Tome_II2_Part_7.txt',\n     'Bxl_1955_Tome_I_Part_1.txt',\n     'Bxl_1955_Tome_I_Part_2.txt',\n     'Bxl_1955_Tome_I_Part_3.txt',\n     'Bxl_1955_Tome_I_Part_4.txt',\n     'Bxl_1955_Tome_I_Part_5.txt',\n     'Bxl_1955_Tome_I_Part_6.txt',\n     'Bxl_1955_Tome_I_Part_7.txt',\n     'Bxl_1955_Tome_I_Part_9.txt',\n     'Bxl_1956_Tome_II1_Part_1.txt',\n     'Bxl_1956_Tome_II1_Part_3.txt',\n     'Bxl_1956_Tome_II2_Part_1.txt',\n     'Bxl_1956_Tome_II2_Part_2.txt',\n     'Bxl_1956_Tome_II2_Part_3.txt',\n     'Bxl_1956_Tome_II2_Part_5.txt',\n     'Bxl_1956_Tome_II2_Part_7.txt',\n     'Bxl_1956_Tome_II2_Part_8.txt',\n     'Bxl_1956_Tome_I_Part_10.txt',\n     'Bxl_1956_Tome_I_Part_2.txt',\n     'Bxl_1956_Tome_I_Part_3.txt',\n     'Bxl_1956_Tome_I_Part_4.txt',\n     'Bxl_1956_Tome_I_Part_5.txt',\n     'Bxl_1956_Tome_I_Part_7.txt',\n     'Bxl_1957_Tome_II2_Part_2.txt',\n     'Bxl_1957_Tome_II2_Part_4.txt',\n     'Bxl_1957_Tome_II2_Part_5.txt',\n     'Bxl_1957_Tome_II2_Part_6.txt',\n     'Bxl_1957_Tome_I_Part_3.txt',\n     'Bxl_1957_Tome_I_Part_5.txt',\n     'Bxl_1957_Tome_I_Part_6.txt',\n     'Bxl_1958_Tome_II_Part_1.txt',\n     'Bxl_1958_Tome_II_Part_10.txt',\n     'Bxl_1958_Tome_II_Part_12.txt',\n     'Bxl_1958_Tome_II_Part_3.txt',\n     'Bxl_1958_Tome_II_Part_8.txt',\n     'Bxl_1958_Tome_II_Part_9.txt',\n     'Bxl_1959_Tome_II1_Part_7.txt',\n     'Bxl_1959_Tome_II2_Part_2.txt',\n     'Bxl_1959_Tome_II2_Part_3.txt',\n     'Bxl_1959_Tome_II2_Part_4.txt',\n     'Bxl_1959_Tome_II2_Part_5.txt',\n     'Bxl_1959_Tome_II2_Part_6.txt',\n     'Bxl_1959_Tome_I_Part_11.txt',\n     'Bxl_1959_Tome_I_Part_5.txt'],\n 3: ['Bxl_1950_Tome_III_Part_6.txt',\n     'Bxl_1950_Tome_III_Part_7.txt',\n     'Bxl_1950_Tome_I_Part_7.txt',\n     'Bxl_1950_Tome_I_Part_8.txt',\n     'Bxl_1951_Tome_II_Part_17.txt',\n     'Bxl_1951_Tome_II_Part_18.txt',\n     'Bxl_1951_Tome_I_Part_6.txt',\n     'Bxl_1951_Tome_I_Part_7.txt',\n     'Bxl_1952_Tome_III_Part_5.txt',\n     'Bxl_1952_Tome_III_Part_6.txt',\n     'Bxl_1952_Tome_I_Part_8.txt',\n     'Bxl_1953_Tome_III_Part_8.txt',\n     'Bxl_1953_Tome_III_Part_9.txt',\n     'Bxl_1953_Tome_I_Part_13.txt',\n     'Bxl_1954_Tome_III_Part_8.txt',\n     'Bxl_1954_Tome_III_Part_9.txt',\n     'Bxl_1954_Tome_I_Part_10.txt',\n     'Bxl_1955_Tome_II2_Part_8.txt',\n     'Bxl_1955_Tome_II2_Part_9.txt',\n     'Bxl_1955_Tome_I_Part_10.txt',\n     'Bxl_1956_Tome_II2_Part_10.txt',\n     'Bxl_1956_Tome_II2_Part_11.txt',\n     'Bxl_1956_Tome_II2_Part_9.txt',\n     'Bxl_1956_Tome_I_Part_12.txt',\n     'Bxl_1956_Tome_I_Part_13.txt',\n     'Bxl_1957_Tome_II2_Part_8.txt',\n     'Bxl_1957_Tome_II2_Part_9.txt',\n     'Bxl_1957_Tome_I_Part_11.txt',\n     'Bxl_1958_Tome_II_Part_14.txt',\n     'Bxl_1958_Tome_II_Part_15.txt',\n     'Bxl_1958_Tome_I_Part_11.txt',\n     'Bxl_1959_Tome_II2_Part_10.txt',\n     'Bxl_1959_Tome_II2_Part_8.txt',\n     'Bxl_1959_Tome_II2_Part_9.txt',\n     'Bxl_1959_Tome_I_Part_12.txt'],\n 4: ['Bxl_1950_Tome_II_Part_7.txt',\n     'Bxl_1950_Tome_II_Part_8.txt',\n     'Bxl_1951_Tome_II_Part_7.txt',\n     'Bxl_1951_Tome_II_Part_8.txt',\n     'Bxl_1952_Tome_II_Part_7.txt',\n     'Bxl_1952_Tome_II_Part_8.txt',\n     'Bxl_1953_Tome_II_Part_6.txt',\n     'Bxl_1953_Tome_II_Part_7.txt',\n     'Bxl_1953_Tome_II_Part_8.txt',\n     'Bxl_1953_Tome_I_Part_3.txt',\n     'Bxl_1954_Tome_II_Part_7.txt',\n     'Bxl_1954_Tome_II_Part_8.txt',\n     'Bxl_1954_Tome_II_Part_9.txt',\n     'Bxl_1955_Tome_II1_Part_10.txt',\n     'Bxl_1955_Tome_II1_Part_8.txt',\n     'Bxl_1955_Tome_II1_Part_9.txt',\n     'Bxl_1956_Tome_II1_Part_10.txt',\n     'Bxl_1956_Tome_II1_Part_11.txt',\n     'Bxl_1956_Tome_II1_Part_9.txt',\n     'Bxl_1957_Tome_II1_Part_10.txt',\n     'Bxl_1957_Tome_II1_Part_11.txt',\n     'Bxl_1957_Tome_II1_Part_9.txt',\n     'Bxl_1958_Tome_RptAn_Part_4.txt',\n     'Bxl_1958_Tome_RptAn_Part_5.txt',\n     'Bxl_1958_Tome_RptAn_Part_6.txt',\n     'Bxl_1958_Tome_RptAn_Part_7.txt',\n     'Bxl_1959_Tome_RptAn_Part_5.txt',\n     'Bxl_1959_Tome_RptAn_Part_6.txt',\n     'Bxl_1959_Tome_RptAn_Part_7.txt',\n     'Bxl_1959_Tome_RptAn_Part_8.txt']}\n"
     ]
    }
   ],
   "source": [
    "pprint(dict(clustering))"
   ]
  },
  {
   "cell_type": "code",
   "execution_count": null,
   "metadata": {},
   "outputs": [],
   "source": [
    "# Résultat un peu froid. Essayer de comprendre pourquoi ces documents sont proches (thématiques?)"
   ]
  }
 ]
}