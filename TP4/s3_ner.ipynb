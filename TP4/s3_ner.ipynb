{
 "metadata": {
  "language_info": {
   "codemirror_mode": {
    "name": "ipython",
    "version": 3
   },
   "file_extension": ".py",
   "mimetype": "text/x-python",
   "name": "python",
   "nbconvert_exporter": "python",
   "pygments_lexer": "ipython3",
   "version": "3.8.6-final"
  },
  "orig_nbformat": 2,
  "kernelspec": {
   "name": "python3",
   "display_name": "Python 3.8.6 64-bit",
   "metadata": {
    "interpreter": {
     "hash": "99c2798fddc8ab331820d6d51255fa2b50880962d32a1f192cdb341488373fd1"
    }
   }
  }
 },
 "nbformat": 4,
 "nbformat_minor": 2,
 "cells": [
  {
   "source": [
    "# Named-entity recognition with SpaCy\n",
    "\n",
    "La méthode NER permet de détecter les entitées nommées et de référencer des informations."
   ],
   "cell_type": "markdown",
   "metadata": {}
  },
  {
   "cell_type": "code",
   "execution_count": 1,
   "metadata": {},
   "outputs": [],
   "source": [
    "from collections import defaultdict\n",
    "import sys\n",
    "\n",
    "import spacy\n",
    "from spacy.lang.fr.examples import sentences"
   ]
  },
  {
   "source": [
    "Pour installer les modèles Spacy en français : `python -m spacy download fr_core_news_sm`"
   ],
   "cell_type": "markdown",
   "metadata": {
    "tags": []
   }
  },
  {
   "cell_type": "code",
   "execution_count": 2,
   "metadata": {},
   "outputs": [],
   "source": [
    "nlp = spacy.load('fr_core_news_sm')"
   ]
  },
  {
   "source": [
    "## La documentation est accessible ici, https://spacy.io/api/doc¶"
   ],
   "cell_type": "code",
   "metadata": {},
   "execution_count": 4,
   "outputs": []
  },
  {
   "source": [
    "## Détecter les entitées nommées"
   ],
   "cell_type": "markdown",
   "metadata": {}
  },
  {
   "cell_type": "code",
   "execution_count": 3,
   "metadata": {},
   "outputs": [],
   "source": [
    "def show_ents(doc): \n",
    "    if doc.ents: \n",
    "        for ent in doc.ents: \n",
    "            print(ent.text+' - ' +str(ent.start_char) +' - '+ str(ent.end_char) +' - '+ent.label_+ ' - '+str(spacy.explain(ent.label_))) \n",
    "    else: print('Aucune entité nommée trouvée')"
   ]
  },
  {
   "cell_type": "code",
   "execution_count": 4,
   "metadata": {},
   "outputs": [
    {
     "output_type": "stream",
     "name": "stdout",
     "text": [
      "Apple is looking at buying - 0 - 26 - MISC - Miscellaneous entities, e.g. events, nationalities, products or works of art\n"
     ]
    }
   ],
   "source": [
    "doc1 = nlp(\"Apple is looking at buying U.K. startup for $1 billion\") \n",
    "show_ents(doc1)"
   ]
  },
  {
   "cell_type": "code",
   "execution_count": 5,
   "metadata": {},
   "outputs": [
    {
     "output_type": "stream",
     "name": "stdout",
     "text": [
      "Aucune entité nommée trouvée\n"
     ]
    }
   ],
   "source": [
    "doc4 = nlp(\"Les trottoirs\") \n",
    "show_ents(doc4)"
   ]
  },
  {
   "cell_type": "code",
   "execution_count": 6,
   "metadata": {},
   "outputs": [
    {
     "output_type": "stream",
     "name": "stdout",
     "text": [
      "Aucune entité nommée trouvée\n"
     ]
    }
   ],
   "source": [
    "doc5 = nlp(\"Les trottoirs de la ville\") \n",
    "show_ents(doc5)"
   ]
  },
  {
   "cell_type": "code",
   "execution_count": 7,
   "metadata": {},
   "outputs": [
    {
     "output_type": "stream",
     "name": "stdout",
     "text": [
      "Bruxelles - 0 - 9 - LOC - Non-GPE locations, mountain ranges, bodies of water\n"
     ]
    }
   ],
   "source": [
    "doc6 = nlp(\"Bruxelles, ma belle\") \n",
    "show_ents(doc6)"
   ]
  },
  {
   "cell_type": "code",
   "execution_count": 8,
   "metadata": {},
   "outputs": [
    {
     "output_type": "stream",
     "name": "stdout",
     "text": [
      "Aucune entité nommée trouvée\n"
     ]
    }
   ],
   "source": [
    "doc7 = nlp(\"La voie publique n'est pas une déchetterie\") \n",
    "show_ents(doc7)"
   ]
  },
  {
   "cell_type": "code",
   "execution_count": 9,
   "metadata": {},
   "outputs": [
    {
     "output_type": "stream",
     "name": "stdout",
     "text": [
      "Commission - 0 - 10 - ORG - Companies, agencies, institutions, etc.\n"
     ]
    }
   ],
   "source": [
    "doc8 = nlp(\"Commission assistance\") \n",
    "show_ents(doc8)"
   ]
  },
  {
   "cell_type": "code",
   "execution_count": 10,
   "metadata": {},
   "outputs": [
    {
     "output_type": "stream",
     "name": "stdout",
     "text": [
      "Bulletins - 33 - 42 - LOC - Non-GPE locations, mountain ranges, bodies of water\nVille de Bruxelles - 59 - 77 - LOC - Non-GPE locations, mountain ranges, bodies of water\n"
     ]
    }
   ],
   "source": [
    "doc9 = nlp(\"Dans le cadre de ce travail, les Bulletins communaux de la Ville de Bruxelles sont analysés à l'aide d'une série de scripts.\") \n",
    "show_ents(doc9)"
   ]
  },
  {
   "cell_type": "code",
   "execution_count": 11,
   "metadata": {},
   "outputs": [
    {
     "output_type": "stream",
     "name": "stdout",
     "text": [
      "NER - 24 - 27 - ORG - Companies, agencies, institutions, etc.\nConseil communal de la Ville de Bruxelles - 111 - 152 - ORG - Companies, agencies, institutions, etc.\n"
     ]
    }
   ],
   "source": [
    "doc10 = nlp(\"Le recours à la méthode NER permettrait une meilleure organisation de la documentation relative aux séances du Conseil communal de la Ville de Bruxelles.\") \n",
    "show_ents(doc10)"
   ]
  },
  {
   "source": [
    "## Application sur le corpus pour tous les Bulletins communaux des années 1847 à 1978\n"
   ],
   "cell_type": "markdown",
   "metadata": {}
  },
  {
   "cell_type": "code",
   "execution_count": 12,
   "metadata": {
    "tags": []
   },
   "outputs": [],
   "source": [
    "# Charger le texte\n",
    "\n",
    "n=1000000\n",
    "text = open(\"../data/allyear.txt\", encoding='utf-8').read()[:n]"
   ]
  },
  {
   "cell_type": "code",
   "execution_count": 13,
   "metadata": {},
   "outputs": [
    {
     "output_type": "stream",
     "name": "stdout",
     "text": [
      "Wall time: 44.8 s\n"
     ]
    }
   ],
   "source": [
    "%%time\n",
    "# Traiter le texte\n",
    "\n",
    "doc = nlp(text)"
   ]
  },
  {
   "cell_type": "code",
   "execution_count": 14,
   "metadata": {},
   "outputs": [],
   "source": [
    "# Compter les entités\n",
    "\n",
    "organisations = defaultdict(int)\n",
    "\n",
    "for ent in doc.ents:\n",
    "    if ent.label_ == \"ORG\" and len(ent.text) > 3:\n",
    "        organisations[ent.text] += 1"
   ]
  },
  {
   "cell_type": "code",
   "execution_count": 15,
   "metadata": {},
   "outputs": [
    {
     "output_type": "execute_result",
     "data": {
      "text/plain": [
       "defaultdict(int,\n",
       "            {'Dl!\\n\\n': 1,\n",
       "             'VILLE': 1,\n",
       "             'IMPRIMERIE': 1,\n",
       "             'FAUBOURG': 1,\n",
       "             'Conseil': 374,\n",
       "             '^espourVica.lém': 1,\n",
       "             'SOMMAIRE': 17,\n",
       "             '— Discussion': 1,\n",
       "             'Messageries': 2,\n",
       "             'Académie des beaux': 2,\n",
       "             'CONSTRUCTIONS': 1,\n",
       "             'Location du marché de la Madeleine': 1,\n",
       "             'Conseil communal': 8,\n",
       "             'Philanthropie j o u i r': 1,\n",
       "             'Société de Philanthrophie': 1,\n",
       "             'Aveugles indigens': 1,\n",
       "             'Sociélé Philanlropique': 1,\n",
       "             'Société Philanthropique': 14,\n",
       "             'Société Royale de Philanthropie': 7,\n",
       "             \"Conseil général de l'administration des hospices\": 1,\n",
       "             'Conseil général des hospices': 6,\n",
       "             'Société de Commerce des Pays-Bas': 1,\n",
       "             'Société de Commerce': 1,\n",
       "             \"Conseil général d'administration des hospices\": 3,\n",
       "             'Société Royale de Philanthrophie': 1,\n",
       "             'Nouveau Pachéco': 1,\n",
       "             'Société': 19,\n",
       "             \"Conseil d'administration des hospices\": 1,\n",
       "             'Conseil général des\\nhospices': 2,\n",
       "             'Collège des bourgmestre': 10,\n",
       "             'Société demeurera chargée des frais': 1,\n",
       "             'Société du produit des actions': 1,\n",
       "             'Aveugles': 1,\n",
       "             'Société P': 3,\n",
       "             'MNll': 1,\n",
       "             'Ste-Gerlrude': 1,\n",
       "             'N O U': 1,\n",
       "             '|>ar': 1,\n",
       "             'Ranwet': 45,\n",
       "             'Conservatoire': 8,\n",
       "             'Messieurs': 3,\n",
       "             'Théâtres royaux': 1,\n",
       "             'M. Ranwet': 5,\n",
       "             'Conseil des hospices': 3,\n",
       "             'Règlement': 1,\n",
       "             'Fermages': 1,\n",
       "             'Banque de Vienne': 1,\n",
       "             'Tannée dernière': 1,\n",
       "             'DÉPENSES': 1,\n",
       "             'CHARGES': 1,\n",
       "             'BIENS': 1,\n",
       "             '— Art': 2,\n",
       "             'Anniversaires': 1,\n",
       "             'Report\\n\\n': 1,\n",
       "             'Conseil général': 2,\n",
       "             'indigens.—Dépenses imprévues': 1,\n",
       "             'Engager le': 1,\n",
       "             'Arrêter': 1,\n",
       "             'CHAPITRE': 1,\n",
       "             'Réduction proposée': 1,\n",
       "             'Conseil général des hospices et secours': 1,\n",
       "             'Comité': 1,\n",
       "             'Chambre des représentans du 21 décembre': 1,\n",
       "             'Verschoot': 1,\n",
       "             \"Conseil communal d'approuver\": 1,\n",
       "             'Conservatoire royal de musique': 1,\n",
       "             'Régence': 4,\n",
       "             'Conseil de régence': 2,\n",
       "             'Echevin Orts': 1,\n",
       "             'Tribunaux de justice de paix': 1,\n",
       "             'MM. Ranwet': 1,\n",
       "             'Tribunaux de paix': 1,\n",
       "             'Cour': 3,\n",
       "             'Compagnie': 2,\n",
       "             'Collège': 32,\n",
       "             'Conseil de salubrité': 15,\n",
       "             'GrandesMessageries': 1,\n",
       "             'Conseil central de salubrité publique': 3,\n",
       "             'Conseil central': 2,\n",
       "             'Constitution': 14,\n",
       "             'Conseil central de salubrité': 1,\n",
       "             'VOUS': 3,\n",
       "             'RAUCOURT': 2,\n",
       "             'BORTIER': 1,\n",
       "             'DIMINUTION': 1,\n",
       "             'I N T É R': 1,\n",
       "             'INTÉRÊTS': 1,\n",
       "             'Saint-Germain': 1,\n",
       "             '-Roses': 1,\n",
       "             \"Collège d'ordonner\": 1,\n",
       "             '« Art': 2,\n",
       "             'Conseil de': 1,\n",
       "             'Conseil des calculs': 1,\n",
       "             'MolenbeekSaint': 1,\n",
       "             'Ayons': 1,\n",
       "             'Vargent': 1,\n",
       "             'Académie de dessin': 2,\n",
       "             'Académie des beauxarts': 1,\n",
       "             'Université': 1,\n",
       "             '— Modification': 1,\n",
       "             'Le Conseil': 2,\n",
       "             'Collège prenne': 1,\n",
       "             'Conseil substitue': 1,\n",
       "             'Parloes': 1,\n",
       "             \"Conseil général d'administration des hospices mette\": 1,\n",
       "             'Conseil sans q u e': 1,\n",
       "             'Ministre de la guerre': 2,\n",
       "             'Assemblée constituante': 2,\n",
       "             \"Ministre invoque essentiellement l'art\": 1,\n",
       "             'Ministre': 2,\n",
       "             'Conseil général des hospices de Bruxelles': 1,\n",
       "             'MM. Gendebien': 1,\n",
       "             'Conseil de modifier': 1,\n",
       "             'Conseil de l u i faire payer': 1,\n",
       "             'Moniteur': 1,\n",
       "             '— Installation': 1,\n",
       "             'MM. de': 1,\n",
       "             'Cambre': 3,\n",
       "             'Conseil de la\\nCambre': 1,\n",
       "             \"Conseil d'inspection\": 1,\n",
       "             'EXPLOITATION DES': 1,\n",
       "             'MONNAIE': 1,\n",
       "             'Collège des Bourgmestre': 1,\n",
       "             'Commission des théâtres': 1,\n",
       "             'THÉÂTRE': 1,\n",
       "             'PARC': 1,\n",
       "             'Collège dos Bourgmestre': 1,\n",
       "             'Conservatoire de musique': 1,\n",
       "             'Avant-1830': 1,\n",
       "             'ECHEVIN': 1,\n",
       "             'A R T': 4,\n",
       "             'Administration communale': 8,\n",
       "             'Conseil communal pourra': 1,\n",
       "             'VERHULST': 1,\n",
       "             'FONTAINAS': 1,\n",
       "             'Ranwet Dans': 1,\n",
       "             'G0Ô f r': 1,\n",
       "             'ordre du Collège': 1,\n",
       "             'S6,000 f r': 1,\n",
       "             \".'improviste\": 1,\n",
       "             'Conseil de suspendre': 2,\n",
       "             'Approbation de la convention': 1,\n",
       "             'Palladio': 1,\n",
       "             '« Je': 1,\n",
       "             'Belgique Communale': 2,\n",
       "             'Vous savez': 1,\n",
       "             'SaintHubert': 1,\n",
       "             'GrandThéâtre': 3,\n",
       "             \"Conseil d'approuver cinq legs\": 1,\n",
       "             'Société de\\nPhilanthropie': 2,\n",
       "             'Téchevin Orts': 1,\n",
       "             'Société de': 1,\n",
       "             'Philanthropie': 1,\n",
       "             'Société de P h i': 1,\n",
       "             'Pardon !': 1,\n",
       "             \"Société d'achever le bâtiment\": 1,\n",
       "             'Collège\\n\\n\\x0c': 1,\n",
       "             'Hospice des Aveugles': 1,\n",
       "             'Adhésion': 4,\n",
       "             'Nombre de journées': 1,\n",
       "             'Total': 1,\n",
       "             'Chambre des représenlans': 1,\n",
       "             'Attendu': 3,\n",
       "             'Conseil la résolution': 1,\n",
       "             'Chambre des représentans': 1,\n",
       "             'Chambre': 9,\n",
       "             'Académie des\\nbeaux': 1,\n",
       "             'Académie': 2,\n",
       "             'Collège fasse': 1,\n",
       "             'Conseil provincial connût': 1,\n",
       "             'Conseil de mauvais voul': 1,\n",
       "             'PetiteSenne': 1,\n",
       "             'Conseil de régence de la\\n': 1,\n",
       "             'QO La': 1,\n",
       "             'Société générale': 1,\n",
       "             'D. Révision': 1,\n",
       "             'BUDGET': 2,\n",
       "             'EXERCICE': 1,\n",
       "             'Société royale de Philantropîe': 1,\n",
       "             'ETAT\\n\\n': 1,\n",
       "             'Société Générale 1,007,000 f r': 1,\n",
       "             'Bas-fonds': 22,\n",
       "             \"Conseil pour l'affaire des Bas-fonds de la rue Royale\": 1,\n",
       "             'Collège vous': 1,\n",
       "             'Conseil de r é g e n c e': 2,\n",
       "             'Code pénal': 4,\n",
       "             \"Boè'\": 1,\n",
       "             'Blaes': 1,\n",
       "             'Académie des Beaux': 1,\n",
       "             \"Conseil provincial d'al-\": 1,\n",
       "             'Conseil communal juge préférable o u': 1,\n",
       "             'Arrêté royal': 1,\n",
       "             'Insertions': 1,\n",
       "             'V améliorât ion': 1,\n",
       "             \"Conseil d'administ\": 1,\n",
       "             'LÉOPOLD': 1,\n",
       "             'Société civile': 2,\n",
       "             'Conseil municipal': 1,\n",
       "             'Entrerai': 1,\n",
       "             'Chambres': 1,\n",
       "             'Brouckere': 1,\n",
       "             'Grand*Place': 1,\n",
       "             'Bas-fonds de la rue Royale': 1,\n",
       "             'OBJET': 1,\n",
       "             'RAPPORT': 1,\n",
       "             'Secundo': 1,\n",
       "             'Administration des Hospices': 5,\n",
       "             'Administratration des Hospices': 1,\n",
       "             'Conseil de Régence': 4,\n",
       "             'Bas-fonds une place publique': 1,\n",
       "             'Conseil général des Hospices': 1,\n",
       "             'Commission composée de MM. Delvaux de Saive': 1,\n",
       "             'Schuttery': 2,\n",
       "             'Conseil de\\nRégence': 2,\n",
       "             'Conservatoire des Arts et Métiers': 1,\n",
       "             'MARCHÉ': 1,\n",
       "             'Section': 3,\n",
       "             'Commission royale des monumens': 1,\n",
       "             \"L'EMPLACEMENT DES BAS-FONDS\": 1,\n",
       "             '— MODE': 1,\n",
       "             'CONSTRUCTION': 1,\n",
       "             '— RÉSUMÉ DES DIVERSES': 1,\n",
       "             'Quatrième combinaison': 1,\n",
       "             'MontePintiano': 1,\n",
       "             'Bas-fonds pour y établir u n': 1,\n",
       "             'nie Royale': 1,\n",
       "             'VOIES': 1,\n",
       "             'COMMUNICATION': 1,\n",
       "             'AVEC': 1,\n",
       "             'Administration des hospices': 1,\n",
       "             'Bas-fonds l o u': 1,\n",
       "             'Autorité communale des plans pour les Bas-fonds': 1,\n",
       "             'ARRÊTE': 1,\n",
       "             'Administration communale des projets conformes': 1,\n",
       "             'CONCLUSION': 1,\n",
       "             'Administration': 1,\n",
       "             'JOMXAIRE': 1,\n",
       "             'Conseil des deux': 1,\n",
       "             'Pris': 1,\n",
       "             'Conseil de fabrique': 3,\n",
       "             \"ministre de l'intérieur\": 1})"
      ]
     },
     "metadata": {},
     "execution_count": 15
    }
   ],
   "source": [
    "organisations"
   ]
  },
  {
   "cell_type": "code",
   "execution_count": 16,
   "metadata": {},
   "outputs": [
    {
     "output_type": "stream",
     "name": "stdout",
     "text": [
      "Conseil appears 374 times in the corpus\nRanwet appears 45 times in the corpus\nCollège appears 32 times in the corpus\nBas-fonds appears 22 times in the corpus\nSociété appears 19 times in the corpus\nSOMMAIRE appears 17 times in the corpus\nConseil de salubrité appears 15 times in the corpus\nSociété Philanthropique appears 14 times in the corpus\nConstitution appears 14 times in the corpus\nCollège des bourgmestre appears 10 times in the corpus\nChambre appears 9 times in the corpus\nConseil communal appears 8 times in the corpus\nConservatoire appears 8 times in the corpus\nAdministration communale appears 8 times in the corpus\nSociété Royale de Philanthropie appears 7 times in the corpus\nConseil général des hospices appears 6 times in the corpus\nM. Ranwet appears 5 times in the corpus\nAdministration des Hospices appears 5 times in the corpus\nRégence appears 4 times in the corpus\nA R T appears 4 times in the corpus\nAdhésion appears 4 times in the corpus\nCode pénal appears 4 times in the corpus\nConseil de Régence appears 4 times in the corpus\nConseil général d'administration des hospices appears 3 times in the corpus\nSociété P appears 3 times in the corpus\nMessieurs appears 3 times in the corpus\nConseil des hospices appears 3 times in the corpus\nCour appears 3 times in the corpus\nConseil central de salubrité publique appears 3 times in the corpus\nVOUS appears 3 times in the corpus\n"
     ]
    }
   ],
   "source": [
    "# Trier et imprimer\n",
    "\n",
    "sorted_organisations = sorted(organisations.items(), key=lambda kv: kv[1], reverse=True)\n",
    "\n",
    "for organisations, freq in sorted_organisations[:30]:\n",
    "    print(f\"{organisations} appears {freq} times in the corpus\")"
   ]
  },
  {
   "cell_type": "code",
   "execution_count": 17,
   "metadata": {},
   "outputs": [
    {
     "output_type": "execute_result",
     "data": {
      "text/plain": [
       "1000000"
      ]
     },
     "metadata": {},
     "execution_count": 17
    }
   ],
   "source": [
    "text = open(\"../data/allyear.txt\", encoding='utf-8').read()[:n]\n",
    "\n",
    "len(text)"
   ]
  },
  {
   "cell_type": "code",
   "execution_count": 18,
   "metadata": {},
   "outputs": [],
   "source": [
    "nlp.max_length = 15000000"
   ]
  },
  {
   "cell_type": "code",
   "execution_count": 19,
   "metadata": {},
   "outputs": [
    {
     "output_type": "stream",
     "name": "stdout",
     "text": [
      "Conseil appears 374 times in the corpus\nRanwet appears 45 times in the corpus\nCollège appears 32 times in the corpus\nBas-fonds appears 22 times in the corpus\nSociété appears 19 times in the corpus\nSOMMAIRE appears 17 times in the corpus\nConseil de salubrité appears 15 times in the corpus\nSociété Philanthropique appears 14 times in the corpus\nConstitution appears 14 times in the corpus\nCollège des bourgmestre appears 10 times in the corpus\nChambre appears 9 times in the corpus\nConseil communal appears 8 times in the corpus\nConservatoire appears 8 times in the corpus\nAdministration communale appears 8 times in the corpus\nSociété Royale de Philanthropie appears 7 times in the corpus\nConseil général des hospices appears 6 times in the corpus\nM. Ranwet appears 5 times in the corpus\nAdministration des Hospices appears 5 times in the corpus\nRégence appears 4 times in the corpus\nM M appears 4 times in the corpus\nA R T appears 4 times in the corpus\nAdhésion appears 4 times in the corpus\nCode pénal appears 4 times in the corpus\nConseil de Régence appears 4 times in the corpus\nConseil général d'administration des hospices appears 3 times in the corpus\nSociété P appears 3 times in the corpus\nMessieurs appears 3 times in the corpus\nConseil des hospices appears 3 times in the corpus\nCour appears 3 times in the corpus\nConseil central de salubrité publique appears 3 times in the corpus\n"
     ]
    }
   ],
   "source": [
    "def search_organisations(n=1000000):\n",
    "    text = open(\"../data/allyear.txt\", encoding='utf-8').read()[:n]\n",
    "    doc = nlp(text)\n",
    "    location = defaultdict(int)\n",
    "    for ent in doc.ents:\n",
    "        if ent.label_ == \"ORG\" and len(ent.text) > 2:\n",
    "            location[ent.text] += 1\n",
    "    sorted_location = sorted(location.items(), key=lambda kv: kv[1], reverse=True)\n",
    "    for location, freq in sorted_location[:30]:\n",
    "        print(f\"{location} appears {freq} times in the corpus\")\n",
    "\n",
    "search_organisations()"
   ]
  },
  {
   "cell_type": "code",
   "execution_count": 20,
   "metadata": {},
   "outputs": [
    {
     "output_type": "stream",
     "name": "stdout",
     "text": [
      "S e c r é t a i r e appears 9 times in the corpus\néchevin O appears 8 times in the corpus\nConsidérant appears 8 times in the corpus\nA R T appears 8 times in the corpus\n« V appears 6 times in the corpus\nCans appears 5 times in the corpus\nM. le bourgmestre appears 5 times in the corpus\nCode appears 5 times in the corpus\nX I appears 5 times in the corpus\nLongue-Vie appears 5 times in the corpus\néchevin D o u c e t appears 4 times in the corpus\nConstitution appears 4 times in the corpus\nWaterloo appears 3 times in the corpus\nsuccession de M appears 3 times in the corpus\n— Discussion appears 3 times in the corpus\nPâques appears 3 times in the corpus\ncoup-d'œil appears 3 times in the corpus\nmarché de la Madeleine appears 3 times in the corpus\n« Voilà des terrains appears 3 times in the corpus\nMarché-auxHerbes appears 3 times in the corpus\n"
     ]
    }
   ],
   "source": [
    "def search_miscellaneous(n=1000000):\n",
    "    text = open(\"../data/allyear.txt\", encoding='utf-8').read()[:n]\n",
    "    doc = nlp(text)\n",
    "    location = defaultdict(int)\n",
    "    for ent in doc.ents:\n",
    "        if ent.label_ == \"MISC\" and len(ent.text) > 2:\n",
    "            location[ent.text] += 1\n",
    "    sorted_location = sorted(location.items(), key=lambda kv: kv[1], reverse=True)\n",
    "    for location, freq in sorted_location[:20]:\n",
    "        print(f\"{location} appears {freq} times in the corpus\")\n",
    "\n",
    "search_miscellaneous()"
   ]
  },
  {
   "cell_type": "code",
   "execution_count": null,
   "metadata": {},
   "outputs": [],
   "source": []
  }
 ]
}